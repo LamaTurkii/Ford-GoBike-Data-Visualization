{
 "cells": [
  {
   "cell_type": "markdown",
   "metadata": {
    "slideshow": {
     "slide_type": "slide"
    }
   },
   "source": [
    "# Ford GoBike Data Visualization\n",
    "## by Emily Aquin\n",
    "\n",
    "## Preliminary Wrangling\n",
    "\n",
    "> Using the Lyft app, you can rent a bicycle in the Bay Area. Within a service area, you can pick up and drop off a bicycle, based on your current needs. This project analyzes the data collected from users of the GoBike program, for 2017 and 2018. The data can be found at https://www.lyft.com/bikes/bay-wheels/system-data"
   ]
  },
  {
   "cell_type": "code",
   "execution_count": 1,
   "metadata": {
    "slideshow": {
     "slide_type": "skip"
    }
   },
   "outputs": [],
   "source": [
    "# import all packages and set plots to be embedded inline\n",
    "import numpy as np\n",
    "import pandas as pd\n",
    "import matplotlib.pyplot as plt\n",
    "import seaborn as sb\n",
    "from requests import get\n",
    "from os import path, getcwd, makedirs, listdir \n",
    "from io import BytesIO\n",
    "from zipfile import ZipFile\n",
    "#import descartes\n",
    "#import geopandas as gpd\n",
    "#from shapely.geometry import Point, Polygon\n",
    "\n",
    "%matplotlib inline"
   ]
  },
  {
   "cell_type": "code",
   "execution_count": 2,
   "metadata": {
    "slideshow": {
     "slide_type": "skip"
    }
   },
   "outputs": [],
   "source": [
    "folder_data = 'info'"
   ]
  },
  {
   "cell_type": "code",
   "execution_count": 3,
   "metadata": {
    "slideshow": {
     "slide_type": "skip"
    }
   },
   "outputs": [],
   "source": [
    "#makedirs(folder_data)\n",
    "#pd.read_csv('https://s3.amazonaws.com/fordgobike-data/2017-fordgobike-tripdata.csv').to_csv('{}/2017-forgobike-tripdata.csv'.format(folder_data))\n",
    "#for month in range(1,12):\n",
    "#    month_string = str(month)\n",
    "#    month_leading_zero = month_string.zfill(2)\n",
    "    \n",
    "#    bike_data_url = 'https://s3.amazonaws.com/fordgobike-data/2018' + month_leading_zero + '-fordgobike-tripdata.csv.zip'\n",
    "#    response = get(bike_data_url)\n",
    "        \n",
    "    # code below opens zip file; BytesIO returns a view of the contents;\n",
    "#    unzipped_file = ZipFile(BytesIO(response.content))\n",
    "        \n",
    "    # places extracted zip file into folder_data\n",
    "#    unzipped_file.extractall(folder_data)"
   ]
  },
  {
   "cell_type": "code",
   "execution_count": 4,
   "metadata": {
    "slideshow": {
     "slide_type": "skip"
    }
   },
   "outputs": [],
   "source": [
    "# Combine all downloaded CSVs into one \n",
    "list_data = []\n",
    "for file_name in listdir(folder_data):\n",
    "    list_data.append(pd.read_csv(folder_data+'/'+file_name))\n",
    "df = pd.concat(list_data, join = 'inner', sort=True)"
   ]
  },
  {
   "cell_type": "code",
   "execution_count": 5,
   "metadata": {
    "slideshow": {
     "slide_type": "skip"
    }
   },
   "outputs": [
    {
     "data": {
      "text/html": [
       "<div>\n",
       "<style scoped>\n",
       "    .dataframe tbody tr th:only-of-type {\n",
       "        vertical-align: middle;\n",
       "    }\n",
       "\n",
       "    .dataframe tbody tr th {\n",
       "        vertical-align: top;\n",
       "    }\n",
       "\n",
       "    .dataframe thead th {\n",
       "        text-align: right;\n",
       "    }\n",
       "</style>\n",
       "<table border=\"1\" class=\"dataframe\">\n",
       "  <thead>\n",
       "    <tr style=\"text-align: right;\">\n",
       "      <th></th>\n",
       "      <th>bike_id</th>\n",
       "      <th>duration_sec</th>\n",
       "      <th>end_station_id</th>\n",
       "      <th>end_station_latitude</th>\n",
       "      <th>end_station_longitude</th>\n",
       "      <th>end_station_name</th>\n",
       "      <th>end_time</th>\n",
       "      <th>member_birth_year</th>\n",
       "      <th>member_gender</th>\n",
       "      <th>start_station_id</th>\n",
       "      <th>start_station_latitude</th>\n",
       "      <th>start_station_longitude</th>\n",
       "      <th>start_station_name</th>\n",
       "      <th>start_time</th>\n",
       "      <th>user_type</th>\n",
       "    </tr>\n",
       "  </thead>\n",
       "  <tbody>\n",
       "    <tr>\n",
       "      <th>0</th>\n",
       "      <td>1035</td>\n",
       "      <td>598</td>\n",
       "      <td>114.0</td>\n",
       "      <td>37.764478</td>\n",
       "      <td>-122.402570</td>\n",
       "      <td>Rhode Island St at 17th St</td>\n",
       "      <td>2018-03-01 00:09:45.1870</td>\n",
       "      <td>1988.0</td>\n",
       "      <td>Male</td>\n",
       "      <td>284.0</td>\n",
       "      <td>37.784872</td>\n",
       "      <td>-122.400876</td>\n",
       "      <td>Yerba Buena Center for the Arts (Howard St at ...</td>\n",
       "      <td>2018-02-28 23:59:47.0970</td>\n",
       "      <td>Subscriber</td>\n",
       "    </tr>\n",
       "    <tr>\n",
       "      <th>1</th>\n",
       "      <td>1673</td>\n",
       "      <td>943</td>\n",
       "      <td>324.0</td>\n",
       "      <td>37.788300</td>\n",
       "      <td>-122.408531</td>\n",
       "      <td>Union Square (Powell St at Post St)</td>\n",
       "      <td>2018-02-28 23:36:59.9740</td>\n",
       "      <td>1987.0</td>\n",
       "      <td>Male</td>\n",
       "      <td>6.0</td>\n",
       "      <td>37.804770</td>\n",
       "      <td>-122.403234</td>\n",
       "      <td>The Embarcadero at Sansome St</td>\n",
       "      <td>2018-02-28 23:21:16.4950</td>\n",
       "      <td>Customer</td>\n",
       "    </tr>\n",
       "    <tr>\n",
       "      <th>2</th>\n",
       "      <td>3498</td>\n",
       "      <td>18587</td>\n",
       "      <td>15.0</td>\n",
       "      <td>37.795392</td>\n",
       "      <td>-122.394203</td>\n",
       "      <td>San Francisco Ferry Building (Harry Bridges Pl...</td>\n",
       "      <td>2018-02-28 23:30:42.9250</td>\n",
       "      <td>1986.0</td>\n",
       "      <td>Female</td>\n",
       "      <td>93.0</td>\n",
       "      <td>37.770407</td>\n",
       "      <td>-122.391198</td>\n",
       "      <td>4th St at Mission Bay Blvd S</td>\n",
       "      <td>2018-02-28 18:20:55.1900</td>\n",
       "      <td>Customer</td>\n",
       "    </tr>\n",
       "    <tr>\n",
       "      <th>3</th>\n",
       "      <td>3129</td>\n",
       "      <td>18558</td>\n",
       "      <td>15.0</td>\n",
       "      <td>37.795392</td>\n",
       "      <td>-122.394203</td>\n",
       "      <td>San Francisco Ferry Building (Harry Bridges Pl...</td>\n",
       "      <td>2018-02-28 23:30:12.4500</td>\n",
       "      <td>1981.0</td>\n",
       "      <td>Male</td>\n",
       "      <td>93.0</td>\n",
       "      <td>37.770407</td>\n",
       "      <td>-122.391198</td>\n",
       "      <td>4th St at Mission Bay Blvd S</td>\n",
       "      <td>2018-02-28 18:20:53.6210</td>\n",
       "      <td>Customer</td>\n",
       "    </tr>\n",
       "    <tr>\n",
       "      <th>4</th>\n",
       "      <td>1839</td>\n",
       "      <td>885</td>\n",
       "      <td>297.0</td>\n",
       "      <td>37.322980</td>\n",
       "      <td>-121.887931</td>\n",
       "      <td>Locust St at Grant St</td>\n",
       "      <td>2018-02-28 23:29:58.6080</td>\n",
       "      <td>1976.0</td>\n",
       "      <td>Female</td>\n",
       "      <td>308.0</td>\n",
       "      <td>37.336802</td>\n",
       "      <td>-121.894090</td>\n",
       "      <td>San Pedro Square</td>\n",
       "      <td>2018-02-28 23:15:12.8580</td>\n",
       "      <td>Subscriber</td>\n",
       "    </tr>\n",
       "  </tbody>\n",
       "</table>\n",
       "</div>"
      ],
      "text/plain": [
       "   bike_id  duration_sec  end_station_id  end_station_latitude  \\\n",
       "0     1035           598           114.0             37.764478   \n",
       "1     1673           943           324.0             37.788300   \n",
       "2     3498         18587            15.0             37.795392   \n",
       "3     3129         18558            15.0             37.795392   \n",
       "4     1839           885           297.0             37.322980   \n",
       "\n",
       "   end_station_longitude                                   end_station_name  \\\n",
       "0            -122.402570                         Rhode Island St at 17th St   \n",
       "1            -122.408531                Union Square (Powell St at Post St)   \n",
       "2            -122.394203  San Francisco Ferry Building (Harry Bridges Pl...   \n",
       "3            -122.394203  San Francisco Ferry Building (Harry Bridges Pl...   \n",
       "4            -121.887931                              Locust St at Grant St   \n",
       "\n",
       "                   end_time  member_birth_year member_gender  \\\n",
       "0  2018-03-01 00:09:45.1870             1988.0          Male   \n",
       "1  2018-02-28 23:36:59.9740             1987.0          Male   \n",
       "2  2018-02-28 23:30:42.9250             1986.0        Female   \n",
       "3  2018-02-28 23:30:12.4500             1981.0          Male   \n",
       "4  2018-02-28 23:29:58.6080             1976.0        Female   \n",
       "\n",
       "   start_station_id  start_station_latitude  start_station_longitude  \\\n",
       "0             284.0               37.784872              -122.400876   \n",
       "1               6.0               37.804770              -122.403234   \n",
       "2              93.0               37.770407              -122.391198   \n",
       "3              93.0               37.770407              -122.391198   \n",
       "4             308.0               37.336802              -121.894090   \n",
       "\n",
       "                                  start_station_name  \\\n",
       "0  Yerba Buena Center for the Arts (Howard St at ...   \n",
       "1                      The Embarcadero at Sansome St   \n",
       "2                       4th St at Mission Bay Blvd S   \n",
       "3                       4th St at Mission Bay Blvd S   \n",
       "4                                   San Pedro Square   \n",
       "\n",
       "                 start_time   user_type  \n",
       "0  2018-02-28 23:59:47.0970  Subscriber  \n",
       "1  2018-02-28 23:21:16.4950    Customer  \n",
       "2  2018-02-28 18:20:55.1900    Customer  \n",
       "3  2018-02-28 18:20:53.6210    Customer  \n",
       "4  2018-02-28 23:15:12.8580  Subscriber  "
      ]
     },
     "execution_count": 5,
     "metadata": {},
     "output_type": "execute_result"
    }
   ],
   "source": [
    "df.head()"
   ]
  },
  {
   "cell_type": "markdown",
   "metadata": {
    "slideshow": {
     "slide_type": "skip"
    }
   },
   "source": [
    "### What is the structure of your dataset?\n"
   ]
  },
  {
   "cell_type": "code",
   "execution_count": 6,
   "metadata": {
    "slideshow": {
     "slide_type": "skip"
    }
   },
   "outputs": [
    {
     "name": "stdout",
     "output_type": "stream",
     "text": [
      "<class 'pandas.core.frame.DataFrame'>\n",
      "Int64Index: 2252058 entries, 0 to 131168\n",
      "Data columns (total 15 columns):\n",
      "bike_id                    int64\n",
      "duration_sec               int64\n",
      "end_station_id             float64\n",
      "end_station_latitude       float64\n",
      "end_station_longitude      float64\n",
      "end_station_name           object\n",
      "end_time                   object\n",
      "member_birth_year          float64\n",
      "member_gender              object\n",
      "start_station_id           float64\n",
      "start_station_latitude     float64\n",
      "start_station_longitude    float64\n",
      "start_station_name         object\n",
      "start_time                 object\n",
      "user_type                  object\n",
      "dtypes: float64(7), int64(2), object(6)\n",
      "memory usage: 274.9+ MB\n"
     ]
    }
   ],
   "source": [
    "df.info()"
   ]
  },
  {
   "cell_type": "code",
   "execution_count": 7,
   "metadata": {
    "slideshow": {
     "slide_type": "skip"
    }
   },
   "outputs": [
    {
     "data": {
      "text/plain": [
       "(2252058, 15)"
      ]
     },
     "execution_count": 7,
     "metadata": {},
     "output_type": "execute_result"
    }
   ],
   "source": [
    "df.shape"
   ]
  },
  {
   "cell_type": "code",
   "execution_count": 8,
   "metadata": {
    "slideshow": {
     "slide_type": "skip"
    }
   },
   "outputs": [
    {
     "data": {
      "text/plain": [
       "bike_id                         0\n",
       "duration_sec                    0\n",
       "end_station_id              11579\n",
       "end_station_latitude            0\n",
       "end_station_longitude           0\n",
       "end_station_name            11579\n",
       "end_time                        0\n",
       "member_birth_year          172248\n",
       "member_gender              171818\n",
       "start_station_id            11579\n",
       "start_station_latitude          0\n",
       "start_station_longitude         0\n",
       "start_station_name          11579\n",
       "start_time                      0\n",
       "user_type                       0\n",
       "dtype: int64"
      ]
     },
     "execution_count": 8,
     "metadata": {},
     "output_type": "execute_result"
    }
   ],
   "source": [
    "df.isnull().sum()"
   ]
  },
  {
   "cell_type": "code",
   "execution_count": 9,
   "metadata": {
    "slideshow": {
     "slide_type": "skip"
    }
   },
   "outputs": [],
   "source": [
    "df_1 = df.copy()"
   ]
  },
  {
   "cell_type": "markdown",
   "metadata": {
    "slideshow": {
     "slide_type": "skip"
    }
   },
   "source": [
    "#### Define"
   ]
  },
  {
   "cell_type": "markdown",
   "metadata": {
    "slideshow": {
     "slide_type": "skip"
    }
   },
   "source": [
    "Drop end_station_id and end_station_name, since they will not be used.  "
   ]
  },
  {
   "cell_type": "markdown",
   "metadata": {
    "slideshow": {
     "slide_type": "skip"
    }
   },
   "source": [
    "#### Code"
   ]
  },
  {
   "cell_type": "code",
   "execution_count": 10,
   "metadata": {
    "slideshow": {
     "slide_type": "skip"
    }
   },
   "outputs": [],
   "source": [
    "df_1.drop(columns =['end_station_id', 'end_station_name'], inplace=True)"
   ]
  },
  {
   "cell_type": "markdown",
   "metadata": {
    "slideshow": {
     "slide_type": "skip"
    }
   },
   "source": [
    "#### Test"
   ]
  },
  {
   "cell_type": "code",
   "execution_count": 11,
   "metadata": {
    "slideshow": {
     "slide_type": "skip"
    }
   },
   "outputs": [
    {
     "name": "stdout",
     "output_type": "stream",
     "text": [
      "<class 'pandas.core.frame.DataFrame'>\n",
      "Int64Index: 2252058 entries, 0 to 131168\n",
      "Data columns (total 13 columns):\n",
      "bike_id                    int64\n",
      "duration_sec               int64\n",
      "end_station_latitude       float64\n",
      "end_station_longitude      float64\n",
      "end_time                   object\n",
      "member_birth_year          float64\n",
      "member_gender              object\n",
      "start_station_id           float64\n",
      "start_station_latitude     float64\n",
      "start_station_longitude    float64\n",
      "start_station_name         object\n",
      "start_time                 object\n",
      "user_type                  object\n",
      "dtypes: float64(6), int64(2), object(5)\n",
      "memory usage: 240.5+ MB\n"
     ]
    }
   ],
   "source": [
    "df_1.info()"
   ]
  },
  {
   "cell_type": "markdown",
   "metadata": {
    "slideshow": {
     "slide_type": "skip"
    }
   },
   "source": [
    "#### Define"
   ]
  },
  {
   "cell_type": "markdown",
   "metadata": {
    "slideshow": {
     "slide_type": "skip"
    }
   },
   "source": [
    "Delete the rows without gender or birth year"
   ]
  },
  {
   "cell_type": "markdown",
   "metadata": {
    "slideshow": {
     "slide_type": "skip"
    }
   },
   "source": [
    "#### Code"
   ]
  },
  {
   "cell_type": "code",
   "execution_count": 12,
   "metadata": {
    "slideshow": {
     "slide_type": "skip"
    }
   },
   "outputs": [],
   "source": [
    "df_1.dropna(subset = ['member_birth_year', 'member_gender'], inplace=True)"
   ]
  },
  {
   "cell_type": "markdown",
   "metadata": {
    "slideshow": {
     "slide_type": "skip"
    }
   },
   "source": [
    "#### Test"
   ]
  },
  {
   "cell_type": "code",
   "execution_count": 13,
   "metadata": {
    "slideshow": {
     "slide_type": "skip"
    }
   },
   "outputs": [
    {
     "data": {
      "text/plain": [
       "bike_id                        0\n",
       "duration_sec                   0\n",
       "end_station_latitude           0\n",
       "end_station_longitude          0\n",
       "end_time                       0\n",
       "member_birth_year              0\n",
       "member_gender                  0\n",
       "start_station_id           11257\n",
       "start_station_latitude         0\n",
       "start_station_longitude        0\n",
       "start_station_name         11257\n",
       "start_time                     0\n",
       "user_type                      0\n",
       "dtype: int64"
      ]
     },
     "execution_count": 13,
     "metadata": {},
     "output_type": "execute_result"
    }
   ],
   "source": [
    "df_1.isnull().sum()"
   ]
  },
  {
   "cell_type": "markdown",
   "metadata": {
    "slideshow": {
     "slide_type": "skip"
    }
   },
   "source": [
    "#### Define"
   ]
  },
  {
   "cell_type": "markdown",
   "metadata": {
    "slideshow": {
     "slide_type": "skip"
    }
   },
   "source": [
    "Only use ages that are reasonable. Check for abnormally old or young values and remove them."
   ]
  },
  {
   "cell_type": "markdown",
   "metadata": {
    "slideshow": {
     "slide_type": "skip"
    }
   },
   "source": [
    "#### Code"
   ]
  },
  {
   "cell_type": "code",
   "execution_count": 14,
   "metadata": {
    "slideshow": {
     "slide_type": "skip"
    }
   },
   "outputs": [],
   "source": [
    "#Create column for user's age\n",
    "df_1['member_age'] = 2018-df_1['member_birth_year'].astype('int')"
   ]
  },
  {
   "cell_type": "markdown",
   "metadata": {
    "slideshow": {
     "slide_type": "skip"
    }
   },
   "source": [
    "Check for Outliers"
   ]
  },
  {
   "cell_type": "code",
   "execution_count": 15,
   "metadata": {
    "slideshow": {
     "slide_type": "skip"
    }
   },
   "outputs": [
    {
     "data": {
      "text/plain": [
       "137"
      ]
     },
     "execution_count": 15,
     "metadata": {},
     "output_type": "execute_result"
    }
   ],
   "source": [
    "df_1['member_age'].max()"
   ]
  },
  {
   "cell_type": "code",
   "execution_count": 16,
   "metadata": {
    "slideshow": {
     "slide_type": "skip"
    }
   },
   "outputs": [
    {
     "data": {
      "text/plain": [
       "18"
      ]
     },
     "execution_count": 16,
     "metadata": {},
     "output_type": "execute_result"
    }
   ],
   "source": [
    "df_1['member_age'].min()"
   ]
  },
  {
   "cell_type": "markdown",
   "metadata": {
    "slideshow": {
     "slide_type": "skip"
    }
   },
   "source": [
    "137 years old is unreasonable, 18 years old is an acceptable value"
   ]
  },
  {
   "cell_type": "code",
   "execution_count": 17,
   "metadata": {
    "slideshow": {
     "slide_type": "skip"
    }
   },
   "outputs": [
    {
     "data": {
      "text/html": [
       "<div>\n",
       "<style scoped>\n",
       "    .dataframe tbody tr th:only-of-type {\n",
       "        vertical-align: middle;\n",
       "    }\n",
       "\n",
       "    .dataframe tbody tr th {\n",
       "        vertical-align: top;\n",
       "    }\n",
       "\n",
       "    .dataframe thead th {\n",
       "        text-align: right;\n",
       "    }\n",
       "</style>\n",
       "<table border=\"1\" class=\"dataframe\">\n",
       "  <thead>\n",
       "    <tr style=\"text-align: right;\">\n",
       "      <th></th>\n",
       "      <th>bike_id</th>\n",
       "      <th>duration_sec</th>\n",
       "      <th>end_station_latitude</th>\n",
       "      <th>end_station_longitude</th>\n",
       "      <th>end_time</th>\n",
       "      <th>member_birth_year</th>\n",
       "      <th>member_gender</th>\n",
       "      <th>start_station_id</th>\n",
       "      <th>start_station_latitude</th>\n",
       "      <th>start_station_longitude</th>\n",
       "      <th>start_station_name</th>\n",
       "      <th>start_time</th>\n",
       "      <th>user_type</th>\n",
       "      <th>member_age</th>\n",
       "    </tr>\n",
       "  </thead>\n",
       "  <tbody>\n",
       "    <tr>\n",
       "      <th>813</th>\n",
       "      <td>983</td>\n",
       "      <td>736</td>\n",
       "      <td>37.776598</td>\n",
       "      <td>-122.395282</td>\n",
       "      <td>2018-02-28 18:20:32.9820</td>\n",
       "      <td>1924.0</td>\n",
       "      <td>Male</td>\n",
       "      <td>16.0</td>\n",
       "      <td>37.794130</td>\n",
       "      <td>-122.394430</td>\n",
       "      <td>Steuart St at Market St</td>\n",
       "      <td>2018-02-28 18:08:16.1930</td>\n",
       "      <td>Subscriber</td>\n",
       "      <td>94</td>\n",
       "    </tr>\n",
       "    <tr>\n",
       "      <th>2088</th>\n",
       "      <td>3207</td>\n",
       "      <td>204</td>\n",
       "      <td>37.804562</td>\n",
       "      <td>-122.271738</td>\n",
       "      <td>2018-02-28 13:52:29.0440</td>\n",
       "      <td>1935.0</td>\n",
       "      <td>Male</td>\n",
       "      <td>339.0</td>\n",
       "      <td>37.800002</td>\n",
       "      <td>-122.266438</td>\n",
       "      <td>Jackson St at 11th St</td>\n",
       "      <td>2018-02-28 13:49:04.8710</td>\n",
       "      <td>Subscriber</td>\n",
       "      <td>83</td>\n",
       "    </tr>\n",
       "    <tr>\n",
       "      <th>3703</th>\n",
       "      <td>2401</td>\n",
       "      <td>640</td>\n",
       "      <td>37.795392</td>\n",
       "      <td>-122.394203</td>\n",
       "      <td>2018-02-28 08:21:51.5150</td>\n",
       "      <td>1924.0</td>\n",
       "      <td>Male</td>\n",
       "      <td>67.0</td>\n",
       "      <td>37.776639</td>\n",
       "      <td>-122.395526</td>\n",
       "      <td>San Francisco Caltrain Station 2  (Townsend St...</td>\n",
       "      <td>2018-02-28 08:11:11.0000</td>\n",
       "      <td>Subscriber</td>\n",
       "      <td>94</td>\n",
       "    </tr>\n",
       "    <tr>\n",
       "      <th>3754</th>\n",
       "      <td>3369</td>\n",
       "      <td>775</td>\n",
       "      <td>37.760299</td>\n",
       "      <td>-122.418892</td>\n",
       "      <td>2018-02-28 08:15:37.0880</td>\n",
       "      <td>1911.0</td>\n",
       "      <td>Other</td>\n",
       "      <td>145.0</td>\n",
       "      <td>37.743684</td>\n",
       "      <td>-122.426806</td>\n",
       "      <td>29th St at Church St</td>\n",
       "      <td>2018-02-28 08:02:41.3960</td>\n",
       "      <td>Subscriber</td>\n",
       "      <td>107</td>\n",
       "    </tr>\n",
       "    <tr>\n",
       "      <th>4567</th>\n",
       "      <td>1788</td>\n",
       "      <td>363</td>\n",
       "      <td>37.747300</td>\n",
       "      <td>-122.411403</td>\n",
       "      <td>2018-02-27 20:16:12.4090</td>\n",
       "      <td>1911.0</td>\n",
       "      <td>Other</td>\n",
       "      <td>146.0</td>\n",
       "      <td>37.742314</td>\n",
       "      <td>-122.423180</td>\n",
       "      <td>30th St at San Jose Ave</td>\n",
       "      <td>2018-02-27 20:10:09.2030</td>\n",
       "      <td>Subscriber</td>\n",
       "      <td>107</td>\n",
       "    </tr>\n",
       "    <tr>\n",
       "      <th>5200</th>\n",
       "      <td>1782</td>\n",
       "      <td>614</td>\n",
       "      <td>37.776598</td>\n",
       "      <td>-122.395282</td>\n",
       "      <td>2018-02-27 18:17:54.1330</td>\n",
       "      <td>1924.0</td>\n",
       "      <td>Male</td>\n",
       "      <td>23.0</td>\n",
       "      <td>37.791464</td>\n",
       "      <td>-122.391034</td>\n",
       "      <td>The Embarcadero at Steuart St</td>\n",
       "      <td>2018-02-27 18:07:39.3080</td>\n",
       "      <td>Subscriber</td>\n",
       "      <td>94</td>\n",
       "    </tr>\n",
       "    <tr>\n",
       "      <th>5784</th>\n",
       "      <td>1848</td>\n",
       "      <td>932</td>\n",
       "      <td>37.764478</td>\n",
       "      <td>-122.402570</td>\n",
       "      <td>2018-02-27 17:14:50.4250</td>\n",
       "      <td>1928.0</td>\n",
       "      <td>Other</td>\n",
       "      <td>22.0</td>\n",
       "      <td>37.789756</td>\n",
       "      <td>-122.394643</td>\n",
       "      <td>Howard St at Beale St</td>\n",
       "      <td>2018-02-27 16:59:17.9550</td>\n",
       "      <td>Subscriber</td>\n",
       "      <td>90</td>\n",
       "    </tr>\n",
       "    <tr>\n",
       "      <th>6389</th>\n",
       "      <td>3161</td>\n",
       "      <td>425</td>\n",
       "      <td>37.792251</td>\n",
       "      <td>-122.397086</td>\n",
       "      <td>2018-02-27 14:50:41.7400</td>\n",
       "      <td>1928.0</td>\n",
       "      <td>Other</td>\n",
       "      <td>5.0</td>\n",
       "      <td>37.783899</td>\n",
       "      <td>-122.408445</td>\n",
       "      <td>Powell St BART Station (Market St at 5th St)</td>\n",
       "      <td>2018-02-27 14:43:35.9570</td>\n",
       "      <td>Subscriber</td>\n",
       "      <td>90</td>\n",
       "    </tr>\n",
       "    <tr>\n",
       "      <th>6949</th>\n",
       "      <td>3671</td>\n",
       "      <td>369</td>\n",
       "      <td>37.804770</td>\n",
       "      <td>-122.403234</td>\n",
       "      <td>2018-02-27 11:02:23.1630</td>\n",
       "      <td>1900.0</td>\n",
       "      <td>Other</td>\n",
       "      <td>8.0</td>\n",
       "      <td>37.799953</td>\n",
       "      <td>-122.398525</td>\n",
       "      <td>The Embarcadero at Vallejo St</td>\n",
       "      <td>2018-02-27 10:56:14.1190</td>\n",
       "      <td>Customer</td>\n",
       "      <td>118</td>\n",
       "    </tr>\n",
       "    <tr>\n",
       "      <th>7189</th>\n",
       "      <td>1642</td>\n",
       "      <td>1826</td>\n",
       "      <td>37.800754</td>\n",
       "      <td>-122.274894</td>\n",
       "      <td>2018-02-27 09:58:31.8540</td>\n",
       "      <td>1900.0</td>\n",
       "      <td>Other</td>\n",
       "      <td>166.0</td>\n",
       "      <td>37.851376</td>\n",
       "      <td>-122.252523</td>\n",
       "      <td>College Ave at Alcatraz Ave</td>\n",
       "      <td>2018-02-27 09:28:05.5930</td>\n",
       "      <td>Customer</td>\n",
       "      <td>118</td>\n",
       "    </tr>\n",
       "    <tr>\n",
       "      <th>7287</th>\n",
       "      <td>2529</td>\n",
       "      <td>410</td>\n",
       "      <td>37.781752</td>\n",
       "      <td>-122.405127</td>\n",
       "      <td>2018-02-27 09:46:03.5570</td>\n",
       "      <td>1902.0</td>\n",
       "      <td>Female</td>\n",
       "      <td>30.0</td>\n",
       "      <td>37.776598</td>\n",
       "      <td>-122.395282</td>\n",
       "      <td>San Francisco Caltrain (Townsend St at 4th St)</td>\n",
       "      <td>2018-02-27 09:39:13.5100</td>\n",
       "      <td>Subscriber</td>\n",
       "      <td>116</td>\n",
       "    </tr>\n",
       "    <tr>\n",
       "      <th>7437</th>\n",
       "      <td>2507</td>\n",
       "      <td>117</td>\n",
       "      <td>37.851376</td>\n",
       "      <td>-122.252523</td>\n",
       "      <td>2018-02-27 09:27:18.4630</td>\n",
       "      <td>1900.0</td>\n",
       "      <td>Other</td>\n",
       "      <td>166.0</td>\n",
       "      <td>37.851376</td>\n",
       "      <td>-122.252523</td>\n",
       "      <td>College Ave at Alcatraz Ave</td>\n",
       "      <td>2018-02-27 09:25:20.9600</td>\n",
       "      <td>Customer</td>\n",
       "      <td>118</td>\n",
       "    </tr>\n",
       "    <tr>\n",
       "      <th>8180</th>\n",
       "      <td>2570</td>\n",
       "      <td>493</td>\n",
       "      <td>37.780760</td>\n",
       "      <td>-122.394989</td>\n",
       "      <td>2018-02-27 08:21:10.7230</td>\n",
       "      <td>1911.0</td>\n",
       "      <td>Other</td>\n",
       "      <td>79.0</td>\n",
       "      <td>37.773492</td>\n",
       "      <td>-122.403673</td>\n",
       "      <td>7th St at Brannan St</td>\n",
       "      <td>2018-02-27 08:12:56.9490</td>\n",
       "      <td>Subscriber</td>\n",
       "      <td>107</td>\n",
       "    </tr>\n",
       "    <tr>\n",
       "      <th>8192</th>\n",
       "      <td>3030</td>\n",
       "      <td>693</td>\n",
       "      <td>37.795392</td>\n",
       "      <td>-122.394203</td>\n",
       "      <td>2018-02-27 08:19:37.6220</td>\n",
       "      <td>1924.0</td>\n",
       "      <td>Male</td>\n",
       "      <td>30.0</td>\n",
       "      <td>37.776598</td>\n",
       "      <td>-122.395282</td>\n",
       "      <td>San Francisco Caltrain (Townsend St at 4th St)</td>\n",
       "      <td>2018-02-27 08:08:04.2650</td>\n",
       "      <td>Subscriber</td>\n",
       "      <td>94</td>\n",
       "    </tr>\n",
       "    <tr>\n",
       "      <th>8866</th>\n",
       "      <td>2911</td>\n",
       "      <td>516</td>\n",
       "      <td>37.776754</td>\n",
       "      <td>-122.399018</td>\n",
       "      <td>2018-02-26 21:01:52.1720</td>\n",
       "      <td>1911.0</td>\n",
       "      <td>Other</td>\n",
       "      <td>5.0</td>\n",
       "      <td>37.783899</td>\n",
       "      <td>-122.408445</td>\n",
       "      <td>Powell St BART Station (Market St at 5th St)</td>\n",
       "      <td>2018-02-26 20:53:15.3960</td>\n",
       "      <td>Subscriber</td>\n",
       "      <td>107</td>\n",
       "    </tr>\n",
       "    <tr>\n",
       "      <th>8927</th>\n",
       "      <td>1037</td>\n",
       "      <td>1125</td>\n",
       "      <td>37.840364</td>\n",
       "      <td>-122.264488</td>\n",
       "      <td>2018-02-26 20:22:30.8510</td>\n",
       "      <td>1900.0</td>\n",
       "      <td>Male</td>\n",
       "      <td>176.0</td>\n",
       "      <td>37.828410</td>\n",
       "      <td>-122.266315</td>\n",
       "      <td>MacArthur BART Station</td>\n",
       "      <td>2018-02-26 20:03:45.0710</td>\n",
       "      <td>Subscriber</td>\n",
       "      <td>118</td>\n",
       "    </tr>\n",
       "    <tr>\n",
       "      <th>9295</th>\n",
       "      <td>2480</td>\n",
       "      <td>778</td>\n",
       "      <td>37.781074</td>\n",
       "      <td>-122.411738</td>\n",
       "      <td>2018-02-26 18:47:28.7380</td>\n",
       "      <td>1911.0</td>\n",
       "      <td>Other</td>\n",
       "      <td>49.0</td>\n",
       "      <td>37.780760</td>\n",
       "      <td>-122.394989</td>\n",
       "      <td>S Park St at 3rd St</td>\n",
       "      <td>2018-02-26 18:34:30.2780</td>\n",
       "      <td>Subscriber</td>\n",
       "      <td>107</td>\n",
       "    </tr>\n",
       "    <tr>\n",
       "      <th>9501</th>\n",
       "      <td>1737</td>\n",
       "      <td>560</td>\n",
       "      <td>37.776598</td>\n",
       "      <td>-122.395282</td>\n",
       "      <td>2018-02-26 18:16:40.8060</td>\n",
       "      <td>1924.0</td>\n",
       "      <td>Male</td>\n",
       "      <td>23.0</td>\n",
       "      <td>37.791464</td>\n",
       "      <td>-122.391034</td>\n",
       "      <td>The Embarcadero at Steuart St</td>\n",
       "      <td>2018-02-26 18:07:20.6570</td>\n",
       "      <td>Subscriber</td>\n",
       "      <td>94</td>\n",
       "    </tr>\n",
       "    <tr>\n",
       "      <th>11022</th>\n",
       "      <td>2699</td>\n",
       "      <td>690</td>\n",
       "      <td>37.776619</td>\n",
       "      <td>-122.417385</td>\n",
       "      <td>2018-02-26 10:53:14.7520</td>\n",
       "      <td>1900.0</td>\n",
       "      <td>Female</td>\n",
       "      <td>20.0</td>\n",
       "      <td>37.791300</td>\n",
       "      <td>-122.399051</td>\n",
       "      <td>Mechanics Monument Plaza (Market St at Bush St)</td>\n",
       "      <td>2018-02-26 10:41:44.2000</td>\n",
       "      <td>Customer</td>\n",
       "      <td>118</td>\n",
       "    </tr>\n",
       "    <tr>\n",
       "      <th>11787</th>\n",
       "      <td>3300</td>\n",
       "      <td>307</td>\n",
       "      <td>37.780760</td>\n",
       "      <td>-122.394989</td>\n",
       "      <td>2018-02-26 08:36:16.6790</td>\n",
       "      <td>1911.0</td>\n",
       "      <td>Other</td>\n",
       "      <td>47.0</td>\n",
       "      <td>37.780955</td>\n",
       "      <td>-122.399749</td>\n",
       "      <td>4th St at Harrison St</td>\n",
       "      <td>2018-02-26 08:31:09.4500</td>\n",
       "      <td>Subscriber</td>\n",
       "      <td>107</td>\n",
       "    </tr>\n",
       "    <tr>\n",
       "      <th>12182</th>\n",
       "      <td>1353</td>\n",
       "      <td>635</td>\n",
       "      <td>37.771058</td>\n",
       "      <td>-122.402717</td>\n",
       "      <td>2018-02-25 21:16:50.6880</td>\n",
       "      <td>1911.0</td>\n",
       "      <td>Other</td>\n",
       "      <td>129.0</td>\n",
       "      <td>37.758862</td>\n",
       "      <td>-122.412544</td>\n",
       "      <td>Harrison St at 20th St</td>\n",
       "      <td>2018-02-25 21:06:15.2500</td>\n",
       "      <td>Subscriber</td>\n",
       "      <td>107</td>\n",
       "    </tr>\n",
       "    <tr>\n",
       "      <th>12721</th>\n",
       "      <td>927</td>\n",
       "      <td>134</td>\n",
       "      <td>37.816073</td>\n",
       "      <td>-122.267886</td>\n",
       "      <td>2018-02-25 16:31:42.5770</td>\n",
       "      <td>1900.0</td>\n",
       "      <td>Male</td>\n",
       "      <td>180.0</td>\n",
       "      <td>37.812678</td>\n",
       "      <td>-122.268773</td>\n",
       "      <td>Telegraph Ave at 23rd St</td>\n",
       "      <td>2018-02-25 16:29:27.9860</td>\n",
       "      <td>Subscriber</td>\n",
       "      <td>118</td>\n",
       "    </tr>\n",
       "    <tr>\n",
       "      <th>14842</th>\n",
       "      <td>3428</td>\n",
       "      <td>284</td>\n",
       "      <td>37.809013</td>\n",
       "      <td>-122.268247</td>\n",
       "      <td>2018-02-24 15:27:12.8110</td>\n",
       "      <td>1900.0</td>\n",
       "      <td>Female</td>\n",
       "      <td>195.0</td>\n",
       "      <td>37.812314</td>\n",
       "      <td>-122.260779</td>\n",
       "      <td>Bay Pl at Vernon St</td>\n",
       "      <td>2018-02-24 15:22:27.9520</td>\n",
       "      <td>Subscriber</td>\n",
       "      <td>118</td>\n",
       "    </tr>\n",
       "    <tr>\n",
       "      <th>16476</th>\n",
       "      <td>1223</td>\n",
       "      <td>125</td>\n",
       "      <td>37.840364</td>\n",
       "      <td>-122.264488</td>\n",
       "      <td>2018-02-23 19:04:55.9110</td>\n",
       "      <td>1900.0</td>\n",
       "      <td>Male</td>\n",
       "      <td>174.0</td>\n",
       "      <td>37.836801</td>\n",
       "      <td>-122.264004</td>\n",
       "      <td>Shattuck Ave at 51st St</td>\n",
       "      <td>2018-02-23 19:02:50.5560</td>\n",
       "      <td>Subscriber</td>\n",
       "      <td>118</td>\n",
       "    </tr>\n",
       "    <tr>\n",
       "      <th>16591</th>\n",
       "      <td>450</td>\n",
       "      <td>133</td>\n",
       "      <td>37.836801</td>\n",
       "      <td>-122.264004</td>\n",
       "      <td>2018-02-23 18:44:44.8660</td>\n",
       "      <td>1900.0</td>\n",
       "      <td>Male</td>\n",
       "      <td>158.0</td>\n",
       "      <td>37.833279</td>\n",
       "      <td>-122.263490</td>\n",
       "      <td>Shattuck Ave at Telegraph Ave</td>\n",
       "      <td>2018-02-23 18:42:31.3800</td>\n",
       "      <td>Subscriber</td>\n",
       "      <td>118</td>\n",
       "    </tr>\n",
       "    <tr>\n",
       "      <th>17745</th>\n",
       "      <td>3251</td>\n",
       "      <td>397</td>\n",
       "      <td>37.828410</td>\n",
       "      <td>-122.266315</td>\n",
       "      <td>2018-02-23 15:07:47.7110</td>\n",
       "      <td>1900.0</td>\n",
       "      <td>Male</td>\n",
       "      <td>173.0</td>\n",
       "      <td>37.840364</td>\n",
       "      <td>-122.264488</td>\n",
       "      <td>Shattuck Ave at 55th Ave</td>\n",
       "      <td>2018-02-23 15:01:10.4520</td>\n",
       "      <td>Subscriber</td>\n",
       "      <td>118</td>\n",
       "    </tr>\n",
       "    <tr>\n",
       "      <th>18241</th>\n",
       "      <td>736</td>\n",
       "      <td>378</td>\n",
       "      <td>37.788300</td>\n",
       "      <td>-122.408531</td>\n",
       "      <td>2018-02-23 12:01:45.6090</td>\n",
       "      <td>1934.0</td>\n",
       "      <td>Male</td>\n",
       "      <td>25.0</td>\n",
       "      <td>37.787522</td>\n",
       "      <td>-122.397405</td>\n",
       "      <td>Howard St at 2nd St</td>\n",
       "      <td>2018-02-23 11:55:27.4510</td>\n",
       "      <td>Subscriber</td>\n",
       "      <td>84</td>\n",
       "    </tr>\n",
       "    <tr>\n",
       "      <th>19510</th>\n",
       "      <td>2954</td>\n",
       "      <td>750</td>\n",
       "      <td>37.764765</td>\n",
       "      <td>-122.420091</td>\n",
       "      <td>2018-02-23 07:55:25.2100</td>\n",
       "      <td>1911.0</td>\n",
       "      <td>Other</td>\n",
       "      <td>89.0</td>\n",
       "      <td>37.769218</td>\n",
       "      <td>-122.407646</td>\n",
       "      <td>Division St at Potrero Ave</td>\n",
       "      <td>2018-02-23 07:42:54.2130</td>\n",
       "      <td>Subscriber</td>\n",
       "      <td>107</td>\n",
       "    </tr>\n",
       "    <tr>\n",
       "      <th>19693</th>\n",
       "      <td>471</td>\n",
       "      <td>538</td>\n",
       "      <td>37.771058</td>\n",
       "      <td>-122.402717</td>\n",
       "      <td>2018-02-23 06:59:13.7290</td>\n",
       "      <td>1911.0</td>\n",
       "      <td>Other</td>\n",
       "      <td>49.0</td>\n",
       "      <td>37.780760</td>\n",
       "      <td>-122.394989</td>\n",
       "      <td>S Park St at 3rd St</td>\n",
       "      <td>2018-02-23 06:50:14.8720</td>\n",
       "      <td>Subscriber</td>\n",
       "      <td>107</td>\n",
       "    </tr>\n",
       "    <tr>\n",
       "      <th>20219</th>\n",
       "      <td>3553</td>\n",
       "      <td>793</td>\n",
       "      <td>37.787290</td>\n",
       "      <td>-122.394380</td>\n",
       "      <td>2018-02-22 19:36:50.5990</td>\n",
       "      <td>1933.0</td>\n",
       "      <td>Female</td>\n",
       "      <td>61.0</td>\n",
       "      <td>37.776513</td>\n",
       "      <td>-122.411306</td>\n",
       "      <td>Howard St at 8th St</td>\n",
       "      <td>2018-02-22 19:23:37.4770</td>\n",
       "      <td>Subscriber</td>\n",
       "      <td>85</td>\n",
       "    </tr>\n",
       "    <tr>\n",
       "      <th>...</th>\n",
       "      <td>...</td>\n",
       "      <td>...</td>\n",
       "      <td>...</td>\n",
       "      <td>...</td>\n",
       "      <td>...</td>\n",
       "      <td>...</td>\n",
       "      <td>...</td>\n",
       "      <td>...</td>\n",
       "      <td>...</td>\n",
       "      <td>...</td>\n",
       "      <td>...</td>\n",
       "      <td>...</td>\n",
       "      <td>...</td>\n",
       "      <td>...</td>\n",
       "    </tr>\n",
       "    <tr>\n",
       "      <th>94423</th>\n",
       "      <td>1006</td>\n",
       "      <td>351</td>\n",
       "      <td>37.830545</td>\n",
       "      <td>-122.273937</td>\n",
       "      <td>2018-04-10 12:05:38.0380</td>\n",
       "      <td>1900.0</td>\n",
       "      <td>Other</td>\n",
       "      <td>158.0</td>\n",
       "      <td>37.833279</td>\n",
       "      <td>-122.263490</td>\n",
       "      <td>Shattuck Ave at Telegraph Ave</td>\n",
       "      <td>2018-04-10 11:59:46.7640</td>\n",
       "      <td>Subscriber</td>\n",
       "      <td>118</td>\n",
       "    </tr>\n",
       "    <tr>\n",
       "      <th>94711</th>\n",
       "      <td>617</td>\n",
       "      <td>960</td>\n",
       "      <td>37.775880</td>\n",
       "      <td>-122.393170</td>\n",
       "      <td>2018-04-10 10:32:43.7810</td>\n",
       "      <td>1906.0</td>\n",
       "      <td>Male</td>\n",
       "      <td>127.0</td>\n",
       "      <td>37.756708</td>\n",
       "      <td>-122.421025</td>\n",
       "      <td>Valencia St at 21st St</td>\n",
       "      <td>2018-04-10 10:16:43.6170</td>\n",
       "      <td>Customer</td>\n",
       "      <td>112</td>\n",
       "    </tr>\n",
       "    <tr>\n",
       "      <th>95171</th>\n",
       "      <td>2742</td>\n",
       "      <td>572</td>\n",
       "      <td>37.786375</td>\n",
       "      <td>-122.404904</td>\n",
       "      <td>2018-04-10 09:24:57.3450</td>\n",
       "      <td>1902.0</td>\n",
       "      <td>Female</td>\n",
       "      <td>80.0</td>\n",
       "      <td>37.775306</td>\n",
       "      <td>-122.397380</td>\n",
       "      <td>Townsend St at 5th St</td>\n",
       "      <td>2018-04-10 09:15:24.8810</td>\n",
       "      <td>Subscriber</td>\n",
       "      <td>116</td>\n",
       "    </tr>\n",
       "    <tr>\n",
       "      <th>95288</th>\n",
       "      <td>3094</td>\n",
       "      <td>754</td>\n",
       "      <td>37.851376</td>\n",
       "      <td>-122.252523</td>\n",
       "      <td>2018-04-10 09:14:07.3580</td>\n",
       "      <td>1900.0</td>\n",
       "      <td>Other</td>\n",
       "      <td>204.0</td>\n",
       "      <td>37.840186</td>\n",
       "      <td>-122.261823</td>\n",
       "      <td>55th St at Telegraph Ave</td>\n",
       "      <td>2018-04-10 09:01:32.9600</td>\n",
       "      <td>Subscriber</td>\n",
       "      <td>118</td>\n",
       "    </tr>\n",
       "    <tr>\n",
       "      <th>95958</th>\n",
       "      <td>2053</td>\n",
       "      <td>682</td>\n",
       "      <td>37.795392</td>\n",
       "      <td>-122.394203</td>\n",
       "      <td>2018-04-10 08:19:26.5240</td>\n",
       "      <td>1924.0</td>\n",
       "      <td>Male</td>\n",
       "      <td>67.0</td>\n",
       "      <td>37.776639</td>\n",
       "      <td>-122.395526</td>\n",
       "      <td>San Francisco Caltrain Station 2  (Townsend St...</td>\n",
       "      <td>2018-04-10 08:08:03.9660</td>\n",
       "      <td>Subscriber</td>\n",
       "      <td>94</td>\n",
       "    </tr>\n",
       "    <tr>\n",
       "      <th>97132</th>\n",
       "      <td>169</td>\n",
       "      <td>438</td>\n",
       "      <td>37.836801</td>\n",
       "      <td>-122.264004</td>\n",
       "      <td>2018-04-09 20:11:36.4380</td>\n",
       "      <td>1900.0</td>\n",
       "      <td>Male</td>\n",
       "      <td>176.0</td>\n",
       "      <td>37.828410</td>\n",
       "      <td>-122.266315</td>\n",
       "      <td>MacArthur BART Station</td>\n",
       "      <td>2018-04-09 20:04:17.8330</td>\n",
       "      <td>Subscriber</td>\n",
       "      <td>118</td>\n",
       "    </tr>\n",
       "    <tr>\n",
       "      <th>97320</th>\n",
       "      <td>96</td>\n",
       "      <td>400</td>\n",
       "      <td>37.756708</td>\n",
       "      <td>-122.421025</td>\n",
       "      <td>2018-04-09 19:31:39.3910</td>\n",
       "      <td>1911.0</td>\n",
       "      <td>Other</td>\n",
       "      <td>145.0</td>\n",
       "      <td>37.743684</td>\n",
       "      <td>-122.426806</td>\n",
       "      <td>29th St at Church St</td>\n",
       "      <td>2018-04-09 19:24:58.5230</td>\n",
       "      <td>Subscriber</td>\n",
       "      <td>107</td>\n",
       "    </tr>\n",
       "    <tr>\n",
       "      <th>97732</th>\n",
       "      <td>2695</td>\n",
       "      <td>622</td>\n",
       "      <td>37.794130</td>\n",
       "      <td>-122.394430</td>\n",
       "      <td>2018-04-09 18:39:17.6020</td>\n",
       "      <td>1920.0</td>\n",
       "      <td>Male</td>\n",
       "      <td>66.0</td>\n",
       "      <td>37.778742</td>\n",
       "      <td>-122.392741</td>\n",
       "      <td>3rd St at Townsend St</td>\n",
       "      <td>2018-04-09 18:28:55.4800</td>\n",
       "      <td>Subscriber</td>\n",
       "      <td>98</td>\n",
       "    </tr>\n",
       "    <tr>\n",
       "      <th>99539</th>\n",
       "      <td>3586</td>\n",
       "      <td>995</td>\n",
       "      <td>37.764765</td>\n",
       "      <td>-122.420091</td>\n",
       "      <td>2018-04-09 14:04:20.3590</td>\n",
       "      <td>1911.0</td>\n",
       "      <td>Other</td>\n",
       "      <td>49.0</td>\n",
       "      <td>37.780760</td>\n",
       "      <td>-122.394989</td>\n",
       "      <td>S Park St at 3rd St</td>\n",
       "      <td>2018-04-09 13:47:45.0590</td>\n",
       "      <td>Subscriber</td>\n",
       "      <td>107</td>\n",
       "    </tr>\n",
       "    <tr>\n",
       "      <th>100624</th>\n",
       "      <td>3683</td>\n",
       "      <td>330</td>\n",
       "      <td>37.781752</td>\n",
       "      <td>-122.405127</td>\n",
       "      <td>2018-04-09 09:24:40.4270</td>\n",
       "      <td>1902.0</td>\n",
       "      <td>Female</td>\n",
       "      <td>80.0</td>\n",
       "      <td>37.775306</td>\n",
       "      <td>-122.397380</td>\n",
       "      <td>Townsend St at 5th St</td>\n",
       "      <td>2018-04-09 09:19:09.9780</td>\n",
       "      <td>Subscriber</td>\n",
       "      <td>116</td>\n",
       "    </tr>\n",
       "    <tr>\n",
       "      <th>105103</th>\n",
       "      <td>384</td>\n",
       "      <td>402</td>\n",
       "      <td>37.840364</td>\n",
       "      <td>-122.264488</td>\n",
       "      <td>2018-04-07 20:01:04.0990</td>\n",
       "      <td>1900.0</td>\n",
       "      <td>Male</td>\n",
       "      <td>189.0</td>\n",
       "      <td>37.839649</td>\n",
       "      <td>-122.271756</td>\n",
       "      <td>Genoa St at 55th St</td>\n",
       "      <td>2018-04-07 19:54:21.9800</td>\n",
       "      <td>Subscriber</td>\n",
       "      <td>118</td>\n",
       "    </tr>\n",
       "    <tr>\n",
       "      <th>105263</th>\n",
       "      <td>1474</td>\n",
       "      <td>725</td>\n",
       "      <td>37.831275</td>\n",
       "      <td>-122.285633</td>\n",
       "      <td>2018-04-07 19:10:08.3010</td>\n",
       "      <td>1900.0</td>\n",
       "      <td>Male</td>\n",
       "      <td>173.0</td>\n",
       "      <td>37.840364</td>\n",
       "      <td>-122.264488</td>\n",
       "      <td>Shattuck Ave at 55th Ave</td>\n",
       "      <td>2018-04-07 18:58:03.2630</td>\n",
       "      <td>Subscriber</td>\n",
       "      <td>118</td>\n",
       "    </tr>\n",
       "    <tr>\n",
       "      <th>109962</th>\n",
       "      <td>1701</td>\n",
       "      <td>357</td>\n",
       "      <td>37.784872</td>\n",
       "      <td>-122.400876</td>\n",
       "      <td>2018-04-05 17:06:41.9160</td>\n",
       "      <td>1933.0</td>\n",
       "      <td>Female</td>\n",
       "      <td>26.0</td>\n",
       "      <td>37.787290</td>\n",
       "      <td>-122.394380</td>\n",
       "      <td>1st St at Folsom St</td>\n",
       "      <td>2018-04-05 17:00:44.5420</td>\n",
       "      <td>Subscriber</td>\n",
       "      <td>85</td>\n",
       "    </tr>\n",
       "    <tr>\n",
       "      <th>110752</th>\n",
       "      <td>3271</td>\n",
       "      <td>108</td>\n",
       "      <td>37.804562</td>\n",
       "      <td>-122.271738</td>\n",
       "      <td>2018-04-05 13:16:17.3610</td>\n",
       "      <td>1935.0</td>\n",
       "      <td>Male</td>\n",
       "      <td>338.0</td>\n",
       "      <td>37.803189</td>\n",
       "      <td>-122.270579</td>\n",
       "      <td>13th St at Franklin St</td>\n",
       "      <td>2018-04-05 13:14:29.0470</td>\n",
       "      <td>Subscriber</td>\n",
       "      <td>83</td>\n",
       "    </tr>\n",
       "    <tr>\n",
       "      <th>111139</th>\n",
       "      <td>3271</td>\n",
       "      <td>73</td>\n",
       "      <td>37.803189</td>\n",
       "      <td>-122.270579</td>\n",
       "      <td>2018-04-05 11:13:51.2480</td>\n",
       "      <td>1935.0</td>\n",
       "      <td>Male</td>\n",
       "      <td>7.0</td>\n",
       "      <td>37.804562</td>\n",
       "      <td>-122.271738</td>\n",
       "      <td>Frank H Ogawa Plaza</td>\n",
       "      <td>2018-04-05 11:12:37.4040</td>\n",
       "      <td>Subscriber</td>\n",
       "      <td>83</td>\n",
       "    </tr>\n",
       "    <tr>\n",
       "      <th>111401</th>\n",
       "      <td>3078</td>\n",
       "      <td>421</td>\n",
       "      <td>37.781752</td>\n",
       "      <td>-122.405127</td>\n",
       "      <td>2018-04-05 10:05:42.9290</td>\n",
       "      <td>1902.0</td>\n",
       "      <td>Female</td>\n",
       "      <td>30.0</td>\n",
       "      <td>37.776598</td>\n",
       "      <td>-122.395282</td>\n",
       "      <td>San Francisco Caltrain (Townsend St at 4th St)</td>\n",
       "      <td>2018-04-05 09:58:41.3600</td>\n",
       "      <td>Subscriber</td>\n",
       "      <td>116</td>\n",
       "    </tr>\n",
       "    <tr>\n",
       "      <th>113350</th>\n",
       "      <td>154</td>\n",
       "      <td>274</td>\n",
       "      <td>37.804562</td>\n",
       "      <td>-122.271738</td>\n",
       "      <td>2018-04-04 20:43:25.1280</td>\n",
       "      <td>1928.0</td>\n",
       "      <td>Other</td>\n",
       "      <td>180.0</td>\n",
       "      <td>37.812678</td>\n",
       "      <td>-122.268773</td>\n",
       "      <td>Telegraph Ave at 23rd St</td>\n",
       "      <td>2018-04-04 20:38:50.2710</td>\n",
       "      <td>Subscriber</td>\n",
       "      <td>90</td>\n",
       "    </tr>\n",
       "    <tr>\n",
       "      <th>113957</th>\n",
       "      <td>501</td>\n",
       "      <td>237</td>\n",
       "      <td>37.812678</td>\n",
       "      <td>-122.268773</td>\n",
       "      <td>2018-04-04 18:49:10.6450</td>\n",
       "      <td>1928.0</td>\n",
       "      <td>Other</td>\n",
       "      <td>7.0</td>\n",
       "      <td>37.804562</td>\n",
       "      <td>-122.271738</td>\n",
       "      <td>Frank H Ogawa Plaza</td>\n",
       "      <td>2018-04-04 18:45:13.1420</td>\n",
       "      <td>Subscriber</td>\n",
       "      <td>90</td>\n",
       "    </tr>\n",
       "    <tr>\n",
       "      <th>118944</th>\n",
       "      <td>161</td>\n",
       "      <td>979</td>\n",
       "      <td>37.792251</td>\n",
       "      <td>-122.397086</td>\n",
       "      <td>2018-04-03 19:13:55.9970</td>\n",
       "      <td>1920.0</td>\n",
       "      <td>Male</td>\n",
       "      <td>81.0</td>\n",
       "      <td>37.775880</td>\n",
       "      <td>-122.393170</td>\n",
       "      <td>Berry St at 4th St</td>\n",
       "      <td>2018-04-03 18:57:36.2570</td>\n",
       "      <td>Customer</td>\n",
       "      <td>98</td>\n",
       "    </tr>\n",
       "    <tr>\n",
       "      <th>121354</th>\n",
       "      <td>1506</td>\n",
       "      <td>467</td>\n",
       "      <td>37.794231</td>\n",
       "      <td>-122.402923</td>\n",
       "      <td>2018-04-03 13:02:32.3150</td>\n",
       "      <td>1900.0</td>\n",
       "      <td>Female</td>\n",
       "      <td>15.0</td>\n",
       "      <td>37.795392</td>\n",
       "      <td>-122.394203</td>\n",
       "      <td>San Francisco Ferry Building (Harry Bridges Pl...</td>\n",
       "      <td>2018-04-03 12:54:45.2880</td>\n",
       "      <td>Subscriber</td>\n",
       "      <td>118</td>\n",
       "    </tr>\n",
       "    <tr>\n",
       "      <th>121427</th>\n",
       "      <td>1506</td>\n",
       "      <td>367</td>\n",
       "      <td>37.795392</td>\n",
       "      <td>-122.394203</td>\n",
       "      <td>2018-04-03 12:42:01.0480</td>\n",
       "      <td>1900.0</td>\n",
       "      <td>Female</td>\n",
       "      <td>13.0</td>\n",
       "      <td>37.794231</td>\n",
       "      <td>-122.402923</td>\n",
       "      <td>Commercial St at Montgomery St</td>\n",
       "      <td>2018-04-03 12:35:54.0340</td>\n",
       "      <td>Subscriber</td>\n",
       "      <td>118</td>\n",
       "    </tr>\n",
       "    <tr>\n",
       "      <th>121532</th>\n",
       "      <td>3410</td>\n",
       "      <td>126</td>\n",
       "      <td>37.849595</td>\n",
       "      <td>-122.265569</td>\n",
       "      <td>2018-04-03 12:11:21.0130</td>\n",
       "      <td>1900.0</td>\n",
       "      <td>Male</td>\n",
       "      <td>169.0</td>\n",
       "      <td>37.846516</td>\n",
       "      <td>-122.265304</td>\n",
       "      <td>Bushrod Park</td>\n",
       "      <td>2018-04-03 12:09:14.7650</td>\n",
       "      <td>Subscriber</td>\n",
       "      <td>118</td>\n",
       "    </tr>\n",
       "    <tr>\n",
       "      <th>122370</th>\n",
       "      <td>2255</td>\n",
       "      <td>545</td>\n",
       "      <td>37.781752</td>\n",
       "      <td>-122.405127</td>\n",
       "      <td>2018-04-03 09:21:48.7060</td>\n",
       "      <td>1902.0</td>\n",
       "      <td>Female</td>\n",
       "      <td>67.0</td>\n",
       "      <td>37.776639</td>\n",
       "      <td>-122.395526</td>\n",
       "      <td>San Francisco Caltrain Station 2  (Townsend St...</td>\n",
       "      <td>2018-04-03 09:12:43.1800</td>\n",
       "      <td>Subscriber</td>\n",
       "      <td>116</td>\n",
       "    </tr>\n",
       "    <tr>\n",
       "      <th>124168</th>\n",
       "      <td>1807</td>\n",
       "      <td>679</td>\n",
       "      <td>37.840364</td>\n",
       "      <td>-122.264488</td>\n",
       "      <td>2018-04-02 20:09:54.0070</td>\n",
       "      <td>1900.0</td>\n",
       "      <td>Male</td>\n",
       "      <td>176.0</td>\n",
       "      <td>37.828410</td>\n",
       "      <td>-122.266315</td>\n",
       "      <td>MacArthur BART Station</td>\n",
       "      <td>2018-04-02 19:58:34.6010</td>\n",
       "      <td>Subscriber</td>\n",
       "      <td>118</td>\n",
       "    </tr>\n",
       "    <tr>\n",
       "      <th>125865</th>\n",
       "      <td>3196</td>\n",
       "      <td>1596</td>\n",
       "      <td>37.851376</td>\n",
       "      <td>-122.252523</td>\n",
       "      <td>2018-04-02 16:52:55.1400</td>\n",
       "      <td>1900.0</td>\n",
       "      <td>Other</td>\n",
       "      <td>250.0</td>\n",
       "      <td>37.874014</td>\n",
       "      <td>-122.283019</td>\n",
       "      <td>North Berkeley BART Station</td>\n",
       "      <td>2018-04-02 16:26:18.9850</td>\n",
       "      <td>Customer</td>\n",
       "      <td>118</td>\n",
       "    </tr>\n",
       "    <tr>\n",
       "      <th>126291</th>\n",
       "      <td>760</td>\n",
       "      <td>1403</td>\n",
       "      <td>37.866249</td>\n",
       "      <td>-122.299371</td>\n",
       "      <td>2018-04-02 15:21:26.2250</td>\n",
       "      <td>1900.0</td>\n",
       "      <td>Other</td>\n",
       "      <td>249.0</td>\n",
       "      <td>37.858473</td>\n",
       "      <td>-122.253253</td>\n",
       "      <td>Russell St at College Ave</td>\n",
       "      <td>2018-04-02 14:58:02.4610</td>\n",
       "      <td>Customer</td>\n",
       "      <td>118</td>\n",
       "    </tr>\n",
       "    <tr>\n",
       "      <th>127270</th>\n",
       "      <td>1713</td>\n",
       "      <td>354</td>\n",
       "      <td>37.752428</td>\n",
       "      <td>-122.420628</td>\n",
       "      <td>2018-04-02 10:11:12.7190</td>\n",
       "      <td>1911.0</td>\n",
       "      <td>Other</td>\n",
       "      <td>140.0</td>\n",
       "      <td>37.747858</td>\n",
       "      <td>-122.424986</td>\n",
       "      <td>Cesar Chavez St at Dolores St</td>\n",
       "      <td>2018-04-02 10:05:18.1680</td>\n",
       "      <td>Subscriber</td>\n",
       "      <td>107</td>\n",
       "    </tr>\n",
       "    <tr>\n",
       "      <th>127486</th>\n",
       "      <td>1951</td>\n",
       "      <td>438</td>\n",
       "      <td>37.781752</td>\n",
       "      <td>-122.405127</td>\n",
       "      <td>2018-04-02 09:39:55.0610</td>\n",
       "      <td>1902.0</td>\n",
       "      <td>Female</td>\n",
       "      <td>67.0</td>\n",
       "      <td>37.776639</td>\n",
       "      <td>-122.395526</td>\n",
       "      <td>San Francisco Caltrain Station 2  (Townsend St...</td>\n",
       "      <td>2018-04-02 09:32:36.6240</td>\n",
       "      <td>Subscriber</td>\n",
       "      <td>116</td>\n",
       "    </tr>\n",
       "    <tr>\n",
       "      <th>127593</th>\n",
       "      <td>287</td>\n",
       "      <td>247</td>\n",
       "      <td>37.804562</td>\n",
       "      <td>-122.271738</td>\n",
       "      <td>2018-04-02 09:27:54.6790</td>\n",
       "      <td>1935.0</td>\n",
       "      <td>Male</td>\n",
       "      <td>186.0</td>\n",
       "      <td>37.801319</td>\n",
       "      <td>-122.262642</td>\n",
       "      <td>Lakeside Dr at 14th St</td>\n",
       "      <td>2018-04-02 09:23:46.8130</td>\n",
       "      <td>Subscriber</td>\n",
       "      <td>83</td>\n",
       "    </tr>\n",
       "    <tr>\n",
       "      <th>129205</th>\n",
       "      <td>2033</td>\n",
       "      <td>773</td>\n",
       "      <td>37.840364</td>\n",
       "      <td>-122.264488</td>\n",
       "      <td>2018-04-01 20:05:52.3590</td>\n",
       "      <td>1900.0</td>\n",
       "      <td>Male</td>\n",
       "      <td>240.0</td>\n",
       "      <td>37.866043</td>\n",
       "      <td>-122.258804</td>\n",
       "      <td>Haste St at Telegraph Ave</td>\n",
       "      <td>2018-04-01 19:52:59.2050</td>\n",
       "      <td>Subscriber</td>\n",
       "      <td>118</td>\n",
       "    </tr>\n",
       "  </tbody>\n",
       "</table>\n",
       "<p>2911 rows × 14 columns</p>\n",
       "</div>"
      ],
      "text/plain": [
       "        bike_id  duration_sec  end_station_latitude  end_station_longitude  \\\n",
       "813         983           736             37.776598            -122.395282   \n",
       "2088       3207           204             37.804562            -122.271738   \n",
       "3703       2401           640             37.795392            -122.394203   \n",
       "3754       3369           775             37.760299            -122.418892   \n",
       "4567       1788           363             37.747300            -122.411403   \n",
       "5200       1782           614             37.776598            -122.395282   \n",
       "5784       1848           932             37.764478            -122.402570   \n",
       "6389       3161           425             37.792251            -122.397086   \n",
       "6949       3671           369             37.804770            -122.403234   \n",
       "7189       1642          1826             37.800754            -122.274894   \n",
       "7287       2529           410             37.781752            -122.405127   \n",
       "7437       2507           117             37.851376            -122.252523   \n",
       "8180       2570           493             37.780760            -122.394989   \n",
       "8192       3030           693             37.795392            -122.394203   \n",
       "8866       2911           516             37.776754            -122.399018   \n",
       "8927       1037          1125             37.840364            -122.264488   \n",
       "9295       2480           778             37.781074            -122.411738   \n",
       "9501       1737           560             37.776598            -122.395282   \n",
       "11022      2699           690             37.776619            -122.417385   \n",
       "11787      3300           307             37.780760            -122.394989   \n",
       "12182      1353           635             37.771058            -122.402717   \n",
       "12721       927           134             37.816073            -122.267886   \n",
       "14842      3428           284             37.809013            -122.268247   \n",
       "16476      1223           125             37.840364            -122.264488   \n",
       "16591       450           133             37.836801            -122.264004   \n",
       "17745      3251           397             37.828410            -122.266315   \n",
       "18241       736           378             37.788300            -122.408531   \n",
       "19510      2954           750             37.764765            -122.420091   \n",
       "19693       471           538             37.771058            -122.402717   \n",
       "20219      3553           793             37.787290            -122.394380   \n",
       "...         ...           ...                   ...                    ...   \n",
       "94423      1006           351             37.830545            -122.273937   \n",
       "94711       617           960             37.775880            -122.393170   \n",
       "95171      2742           572             37.786375            -122.404904   \n",
       "95288      3094           754             37.851376            -122.252523   \n",
       "95958      2053           682             37.795392            -122.394203   \n",
       "97132       169           438             37.836801            -122.264004   \n",
       "97320        96           400             37.756708            -122.421025   \n",
       "97732      2695           622             37.794130            -122.394430   \n",
       "99539      3586           995             37.764765            -122.420091   \n",
       "100624     3683           330             37.781752            -122.405127   \n",
       "105103      384           402             37.840364            -122.264488   \n",
       "105263     1474           725             37.831275            -122.285633   \n",
       "109962     1701           357             37.784872            -122.400876   \n",
       "110752     3271           108             37.804562            -122.271738   \n",
       "111139     3271            73             37.803189            -122.270579   \n",
       "111401     3078           421             37.781752            -122.405127   \n",
       "113350      154           274             37.804562            -122.271738   \n",
       "113957      501           237             37.812678            -122.268773   \n",
       "118944      161           979             37.792251            -122.397086   \n",
       "121354     1506           467             37.794231            -122.402923   \n",
       "121427     1506           367             37.795392            -122.394203   \n",
       "121532     3410           126             37.849595            -122.265569   \n",
       "122370     2255           545             37.781752            -122.405127   \n",
       "124168     1807           679             37.840364            -122.264488   \n",
       "125865     3196          1596             37.851376            -122.252523   \n",
       "126291      760          1403             37.866249            -122.299371   \n",
       "127270     1713           354             37.752428            -122.420628   \n",
       "127486     1951           438             37.781752            -122.405127   \n",
       "127593      287           247             37.804562            -122.271738   \n",
       "129205     2033           773             37.840364            -122.264488   \n",
       "\n",
       "                        end_time  member_birth_year member_gender  \\\n",
       "813     2018-02-28 18:20:32.9820             1924.0          Male   \n",
       "2088    2018-02-28 13:52:29.0440             1935.0          Male   \n",
       "3703    2018-02-28 08:21:51.5150             1924.0          Male   \n",
       "3754    2018-02-28 08:15:37.0880             1911.0         Other   \n",
       "4567    2018-02-27 20:16:12.4090             1911.0         Other   \n",
       "5200    2018-02-27 18:17:54.1330             1924.0          Male   \n",
       "5784    2018-02-27 17:14:50.4250             1928.0         Other   \n",
       "6389    2018-02-27 14:50:41.7400             1928.0         Other   \n",
       "6949    2018-02-27 11:02:23.1630             1900.0         Other   \n",
       "7189    2018-02-27 09:58:31.8540             1900.0         Other   \n",
       "7287    2018-02-27 09:46:03.5570             1902.0        Female   \n",
       "7437    2018-02-27 09:27:18.4630             1900.0         Other   \n",
       "8180    2018-02-27 08:21:10.7230             1911.0         Other   \n",
       "8192    2018-02-27 08:19:37.6220             1924.0          Male   \n",
       "8866    2018-02-26 21:01:52.1720             1911.0         Other   \n",
       "8927    2018-02-26 20:22:30.8510             1900.0          Male   \n",
       "9295    2018-02-26 18:47:28.7380             1911.0         Other   \n",
       "9501    2018-02-26 18:16:40.8060             1924.0          Male   \n",
       "11022   2018-02-26 10:53:14.7520             1900.0        Female   \n",
       "11787   2018-02-26 08:36:16.6790             1911.0         Other   \n",
       "12182   2018-02-25 21:16:50.6880             1911.0         Other   \n",
       "12721   2018-02-25 16:31:42.5770             1900.0          Male   \n",
       "14842   2018-02-24 15:27:12.8110             1900.0        Female   \n",
       "16476   2018-02-23 19:04:55.9110             1900.0          Male   \n",
       "16591   2018-02-23 18:44:44.8660             1900.0          Male   \n",
       "17745   2018-02-23 15:07:47.7110             1900.0          Male   \n",
       "18241   2018-02-23 12:01:45.6090             1934.0          Male   \n",
       "19510   2018-02-23 07:55:25.2100             1911.0         Other   \n",
       "19693   2018-02-23 06:59:13.7290             1911.0         Other   \n",
       "20219   2018-02-22 19:36:50.5990             1933.0        Female   \n",
       "...                          ...                ...           ...   \n",
       "94423   2018-04-10 12:05:38.0380             1900.0         Other   \n",
       "94711   2018-04-10 10:32:43.7810             1906.0          Male   \n",
       "95171   2018-04-10 09:24:57.3450             1902.0        Female   \n",
       "95288   2018-04-10 09:14:07.3580             1900.0         Other   \n",
       "95958   2018-04-10 08:19:26.5240             1924.0          Male   \n",
       "97132   2018-04-09 20:11:36.4380             1900.0          Male   \n",
       "97320   2018-04-09 19:31:39.3910             1911.0         Other   \n",
       "97732   2018-04-09 18:39:17.6020             1920.0          Male   \n",
       "99539   2018-04-09 14:04:20.3590             1911.0         Other   \n",
       "100624  2018-04-09 09:24:40.4270             1902.0        Female   \n",
       "105103  2018-04-07 20:01:04.0990             1900.0          Male   \n",
       "105263  2018-04-07 19:10:08.3010             1900.0          Male   \n",
       "109962  2018-04-05 17:06:41.9160             1933.0        Female   \n",
       "110752  2018-04-05 13:16:17.3610             1935.0          Male   \n",
       "111139  2018-04-05 11:13:51.2480             1935.0          Male   \n",
       "111401  2018-04-05 10:05:42.9290             1902.0        Female   \n",
       "113350  2018-04-04 20:43:25.1280             1928.0         Other   \n",
       "113957  2018-04-04 18:49:10.6450             1928.0         Other   \n",
       "118944  2018-04-03 19:13:55.9970             1920.0          Male   \n",
       "121354  2018-04-03 13:02:32.3150             1900.0        Female   \n",
       "121427  2018-04-03 12:42:01.0480             1900.0        Female   \n",
       "121532  2018-04-03 12:11:21.0130             1900.0          Male   \n",
       "122370  2018-04-03 09:21:48.7060             1902.0        Female   \n",
       "124168  2018-04-02 20:09:54.0070             1900.0          Male   \n",
       "125865  2018-04-02 16:52:55.1400             1900.0         Other   \n",
       "126291  2018-04-02 15:21:26.2250             1900.0         Other   \n",
       "127270  2018-04-02 10:11:12.7190             1911.0         Other   \n",
       "127486  2018-04-02 09:39:55.0610             1902.0        Female   \n",
       "127593  2018-04-02 09:27:54.6790             1935.0          Male   \n",
       "129205  2018-04-01 20:05:52.3590             1900.0          Male   \n",
       "\n",
       "        start_station_id  start_station_latitude  start_station_longitude  \\\n",
       "813                 16.0               37.794130              -122.394430   \n",
       "2088               339.0               37.800002              -122.266438   \n",
       "3703                67.0               37.776639              -122.395526   \n",
       "3754               145.0               37.743684              -122.426806   \n",
       "4567               146.0               37.742314              -122.423180   \n",
       "5200                23.0               37.791464              -122.391034   \n",
       "5784                22.0               37.789756              -122.394643   \n",
       "6389                 5.0               37.783899              -122.408445   \n",
       "6949                 8.0               37.799953              -122.398525   \n",
       "7189               166.0               37.851376              -122.252523   \n",
       "7287                30.0               37.776598              -122.395282   \n",
       "7437               166.0               37.851376              -122.252523   \n",
       "8180                79.0               37.773492              -122.403673   \n",
       "8192                30.0               37.776598              -122.395282   \n",
       "8866                 5.0               37.783899              -122.408445   \n",
       "8927               176.0               37.828410              -122.266315   \n",
       "9295                49.0               37.780760              -122.394989   \n",
       "9501                23.0               37.791464              -122.391034   \n",
       "11022               20.0               37.791300              -122.399051   \n",
       "11787               47.0               37.780955              -122.399749   \n",
       "12182              129.0               37.758862              -122.412544   \n",
       "12721              180.0               37.812678              -122.268773   \n",
       "14842              195.0               37.812314              -122.260779   \n",
       "16476              174.0               37.836801              -122.264004   \n",
       "16591              158.0               37.833279              -122.263490   \n",
       "17745              173.0               37.840364              -122.264488   \n",
       "18241               25.0               37.787522              -122.397405   \n",
       "19510               89.0               37.769218              -122.407646   \n",
       "19693               49.0               37.780760              -122.394989   \n",
       "20219               61.0               37.776513              -122.411306   \n",
       "...                  ...                     ...                      ...   \n",
       "94423              158.0               37.833279              -122.263490   \n",
       "94711              127.0               37.756708              -122.421025   \n",
       "95171               80.0               37.775306              -122.397380   \n",
       "95288              204.0               37.840186              -122.261823   \n",
       "95958               67.0               37.776639              -122.395526   \n",
       "97132              176.0               37.828410              -122.266315   \n",
       "97320              145.0               37.743684              -122.426806   \n",
       "97732               66.0               37.778742              -122.392741   \n",
       "99539               49.0               37.780760              -122.394989   \n",
       "100624              80.0               37.775306              -122.397380   \n",
       "105103             189.0               37.839649              -122.271756   \n",
       "105263             173.0               37.840364              -122.264488   \n",
       "109962              26.0               37.787290              -122.394380   \n",
       "110752             338.0               37.803189              -122.270579   \n",
       "111139               7.0               37.804562              -122.271738   \n",
       "111401              30.0               37.776598              -122.395282   \n",
       "113350             180.0               37.812678              -122.268773   \n",
       "113957               7.0               37.804562              -122.271738   \n",
       "118944              81.0               37.775880              -122.393170   \n",
       "121354              15.0               37.795392              -122.394203   \n",
       "121427              13.0               37.794231              -122.402923   \n",
       "121532             169.0               37.846516              -122.265304   \n",
       "122370              67.0               37.776639              -122.395526   \n",
       "124168             176.0               37.828410              -122.266315   \n",
       "125865             250.0               37.874014              -122.283019   \n",
       "126291             249.0               37.858473              -122.253253   \n",
       "127270             140.0               37.747858              -122.424986   \n",
       "127486              67.0               37.776639              -122.395526   \n",
       "127593             186.0               37.801319              -122.262642   \n",
       "129205             240.0               37.866043              -122.258804   \n",
       "\n",
       "                                       start_station_name  \\\n",
       "813                               Steuart St at Market St   \n",
       "2088                                Jackson St at 11th St   \n",
       "3703    San Francisco Caltrain Station 2  (Townsend St...   \n",
       "3754                                 29th St at Church St   \n",
       "4567                              30th St at San Jose Ave   \n",
       "5200                        The Embarcadero at Steuart St   \n",
       "5784                                Howard St at Beale St   \n",
       "6389         Powell St BART Station (Market St at 5th St)   \n",
       "6949                        The Embarcadero at Vallejo St   \n",
       "7189                          College Ave at Alcatraz Ave   \n",
       "7287       San Francisco Caltrain (Townsend St at 4th St)   \n",
       "7437                          College Ave at Alcatraz Ave   \n",
       "8180                                 7th St at Brannan St   \n",
       "8192       San Francisco Caltrain (Townsend St at 4th St)   \n",
       "8866         Powell St BART Station (Market St at 5th St)   \n",
       "8927                               MacArthur BART Station   \n",
       "9295                                  S Park St at 3rd St   \n",
       "9501                        The Embarcadero at Steuart St   \n",
       "11022     Mechanics Monument Plaza (Market St at Bush St)   \n",
       "11787                               4th St at Harrison St   \n",
       "12182                              Harrison St at 20th St   \n",
       "12721                            Telegraph Ave at 23rd St   \n",
       "14842                                 Bay Pl at Vernon St   \n",
       "16476                             Shattuck Ave at 51st St   \n",
       "16591                       Shattuck Ave at Telegraph Ave   \n",
       "17745                            Shattuck Ave at 55th Ave   \n",
       "18241                                 Howard St at 2nd St   \n",
       "19510                          Division St at Potrero Ave   \n",
       "19693                                 S Park St at 3rd St   \n",
       "20219                                 Howard St at 8th St   \n",
       "...                                                   ...   \n",
       "94423                       Shattuck Ave at Telegraph Ave   \n",
       "94711                              Valencia St at 21st St   \n",
       "95171                               Townsend St at 5th St   \n",
       "95288                            55th St at Telegraph Ave   \n",
       "95958   San Francisco Caltrain Station 2  (Townsend St...   \n",
       "97132                              MacArthur BART Station   \n",
       "97320                                29th St at Church St   \n",
       "97732                               3rd St at Townsend St   \n",
       "99539                                 S Park St at 3rd St   \n",
       "100624                              Townsend St at 5th St   \n",
       "105103                                Genoa St at 55th St   \n",
       "105263                           Shattuck Ave at 55th Ave   \n",
       "109962                                1st St at Folsom St   \n",
       "110752                             13th St at Franklin St   \n",
       "111139                                Frank H Ogawa Plaza   \n",
       "111401     San Francisco Caltrain (Townsend St at 4th St)   \n",
       "113350                           Telegraph Ave at 23rd St   \n",
       "113957                                Frank H Ogawa Plaza   \n",
       "118944                                 Berry St at 4th St   \n",
       "121354  San Francisco Ferry Building (Harry Bridges Pl...   \n",
       "121427                     Commercial St at Montgomery St   \n",
       "121532                                       Bushrod Park   \n",
       "122370  San Francisco Caltrain Station 2  (Townsend St...   \n",
       "124168                             MacArthur BART Station   \n",
       "125865                        North Berkeley BART Station   \n",
       "126291                          Russell St at College Ave   \n",
       "127270                      Cesar Chavez St at Dolores St   \n",
       "127486  San Francisco Caltrain Station 2  (Townsend St...   \n",
       "127593                             Lakeside Dr at 14th St   \n",
       "129205                          Haste St at Telegraph Ave   \n",
       "\n",
       "                      start_time   user_type  member_age  \n",
       "813     2018-02-28 18:08:16.1930  Subscriber          94  \n",
       "2088    2018-02-28 13:49:04.8710  Subscriber          83  \n",
       "3703    2018-02-28 08:11:11.0000  Subscriber          94  \n",
       "3754    2018-02-28 08:02:41.3960  Subscriber         107  \n",
       "4567    2018-02-27 20:10:09.2030  Subscriber         107  \n",
       "5200    2018-02-27 18:07:39.3080  Subscriber          94  \n",
       "5784    2018-02-27 16:59:17.9550  Subscriber          90  \n",
       "6389    2018-02-27 14:43:35.9570  Subscriber          90  \n",
       "6949    2018-02-27 10:56:14.1190    Customer         118  \n",
       "7189    2018-02-27 09:28:05.5930    Customer         118  \n",
       "7287    2018-02-27 09:39:13.5100  Subscriber         116  \n",
       "7437    2018-02-27 09:25:20.9600    Customer         118  \n",
       "8180    2018-02-27 08:12:56.9490  Subscriber         107  \n",
       "8192    2018-02-27 08:08:04.2650  Subscriber          94  \n",
       "8866    2018-02-26 20:53:15.3960  Subscriber         107  \n",
       "8927    2018-02-26 20:03:45.0710  Subscriber         118  \n",
       "9295    2018-02-26 18:34:30.2780  Subscriber         107  \n",
       "9501    2018-02-26 18:07:20.6570  Subscriber          94  \n",
       "11022   2018-02-26 10:41:44.2000    Customer         118  \n",
       "11787   2018-02-26 08:31:09.4500  Subscriber         107  \n",
       "12182   2018-02-25 21:06:15.2500  Subscriber         107  \n",
       "12721   2018-02-25 16:29:27.9860  Subscriber         118  \n",
       "14842   2018-02-24 15:22:27.9520  Subscriber         118  \n",
       "16476   2018-02-23 19:02:50.5560  Subscriber         118  \n",
       "16591   2018-02-23 18:42:31.3800  Subscriber         118  \n",
       "17745   2018-02-23 15:01:10.4520  Subscriber         118  \n",
       "18241   2018-02-23 11:55:27.4510  Subscriber          84  \n",
       "19510   2018-02-23 07:42:54.2130  Subscriber         107  \n",
       "19693   2018-02-23 06:50:14.8720  Subscriber         107  \n",
       "20219   2018-02-22 19:23:37.4770  Subscriber          85  \n",
       "...                          ...         ...         ...  \n",
       "94423   2018-04-10 11:59:46.7640  Subscriber         118  \n",
       "94711   2018-04-10 10:16:43.6170    Customer         112  \n",
       "95171   2018-04-10 09:15:24.8810  Subscriber         116  \n",
       "95288   2018-04-10 09:01:32.9600  Subscriber         118  \n",
       "95958   2018-04-10 08:08:03.9660  Subscriber          94  \n",
       "97132   2018-04-09 20:04:17.8330  Subscriber         118  \n",
       "97320   2018-04-09 19:24:58.5230  Subscriber         107  \n",
       "97732   2018-04-09 18:28:55.4800  Subscriber          98  \n",
       "99539   2018-04-09 13:47:45.0590  Subscriber         107  \n",
       "100624  2018-04-09 09:19:09.9780  Subscriber         116  \n",
       "105103  2018-04-07 19:54:21.9800  Subscriber         118  \n",
       "105263  2018-04-07 18:58:03.2630  Subscriber         118  \n",
       "109962  2018-04-05 17:00:44.5420  Subscriber          85  \n",
       "110752  2018-04-05 13:14:29.0470  Subscriber          83  \n",
       "111139  2018-04-05 11:12:37.4040  Subscriber          83  \n",
       "111401  2018-04-05 09:58:41.3600  Subscriber         116  \n",
       "113350  2018-04-04 20:38:50.2710  Subscriber          90  \n",
       "113957  2018-04-04 18:45:13.1420  Subscriber          90  \n",
       "118944  2018-04-03 18:57:36.2570    Customer          98  \n",
       "121354  2018-04-03 12:54:45.2880  Subscriber         118  \n",
       "121427  2018-04-03 12:35:54.0340  Subscriber         118  \n",
       "121532  2018-04-03 12:09:14.7650  Subscriber         118  \n",
       "122370  2018-04-03 09:12:43.1800  Subscriber         116  \n",
       "124168  2018-04-02 19:58:34.6010  Subscriber         118  \n",
       "125865  2018-04-02 16:26:18.9850    Customer         118  \n",
       "126291  2018-04-02 14:58:02.4610    Customer         118  \n",
       "127270  2018-04-02 10:05:18.1680  Subscriber         107  \n",
       "127486  2018-04-02 09:32:36.6240  Subscriber         116  \n",
       "127593  2018-04-02 09:23:46.8130  Subscriber          83  \n",
       "129205  2018-04-01 19:52:59.2050  Subscriber         118  \n",
       "\n",
       "[2911 rows x 14 columns]"
      ]
     },
     "execution_count": 17,
     "metadata": {},
     "output_type": "execute_result"
    }
   ],
   "source": [
    "df_age_abnormal = df_1[df_1['member_age'] > 80]\n",
    "df_age_abnormal"
   ]
  },
  {
   "cell_type": "code",
   "execution_count": 18,
   "metadata": {
    "slideshow": {
     "slide_type": "skip"
    }
   },
   "outputs": [],
   "source": [
    "#drop those rows\n",
    "df_1 = df_1.drop(df_age_abnormal.index, axis=0)"
   ]
  },
  {
   "cell_type": "markdown",
   "metadata": {
    "slideshow": {
     "slide_type": "skip"
    }
   },
   "source": [
    "#### Test"
   ]
  },
  {
   "cell_type": "code",
   "execution_count": 19,
   "metadata": {
    "slideshow": {
     "slide_type": "skip"
    }
   },
   "outputs": [
    {
     "data": {
      "text/plain": [
       "(2054059, 14)"
      ]
     },
     "execution_count": 19,
     "metadata": {},
     "output_type": "execute_result"
    }
   ],
   "source": [
    "#confirm the changes\n",
    "df_1.shape"
   ]
  },
  {
   "cell_type": "markdown",
   "metadata": {
    "slideshow": {
     "slide_type": "skip"
    }
   },
   "source": [
    "Resource: https://stackoverflow.com/questions/14661701/how-to-drop-a-list-of-rows-from-pandas-dataframe"
   ]
  },
  {
   "cell_type": "markdown",
   "metadata": {
    "slideshow": {
     "slide_type": "skip"
    }
   },
   "source": [
    "#### Define\n",
    "\n",
    "Change data types, including times to datetimes, and user_type and member_gender to categories"
   ]
  },
  {
   "cell_type": "markdown",
   "metadata": {
    "slideshow": {
     "slide_type": "skip"
    }
   },
   "source": [
    "#### Code"
   ]
  },
  {
   "cell_type": "code",
   "execution_count": 20,
   "metadata": {
    "slideshow": {
     "slide_type": "skip"
    }
   },
   "outputs": [],
   "source": [
    "#change start_time and end_time to datetime\n",
    "df_1['start_time'] = pd.to_datetime(df_1['start_time'])\n",
    "df_1['end_time'] = pd.to_datetime(df_1['end_time'])\n",
    "df_1 = df_1.sort_values(by='start_time')"
   ]
  },
  {
   "cell_type": "code",
   "execution_count": 21,
   "metadata": {
    "slideshow": {
     "slide_type": "skip"
    }
   },
   "outputs": [],
   "source": [
    "#change duration_sec to minutes, as the visualization will be easier to interpret\n",
    "df_1['duration_min'] = df_1['duration_sec'] / 60"
   ]
  },
  {
   "cell_type": "code",
   "execution_count": 22,
   "metadata": {
    "slideshow": {
     "slide_type": "skip"
    }
   },
   "outputs": [],
   "source": [
    "#change duration_sec to minutes, as the visualization will be easier to interpret\n",
    "df_1['duration_hours'] = df_1['duration_min'] / 60"
   ]
  },
  {
   "cell_type": "code",
   "execution_count": 23,
   "metadata": {
    "slideshow": {
     "slide_type": "skip"
    }
   },
   "outputs": [],
   "source": [
    "#change user_type and gender to category type\n",
    "df_1.user_type = df_1.user_type.astype('category')\n",
    "df_1.member_gender = df_1.member_gender.astype('category')"
   ]
  },
  {
   "cell_type": "markdown",
   "metadata": {
    "slideshow": {
     "slide_type": "skip"
    }
   },
   "source": [
    "#### Test"
   ]
  },
  {
   "cell_type": "code",
   "execution_count": 24,
   "metadata": {
    "slideshow": {
     "slide_type": "skip"
    }
   },
   "outputs": [
    {
     "data": {
      "text/html": [
       "<div>\n",
       "<style scoped>\n",
       "    .dataframe tbody tr th:only-of-type {\n",
       "        vertical-align: middle;\n",
       "    }\n",
       "\n",
       "    .dataframe tbody tr th {\n",
       "        vertical-align: top;\n",
       "    }\n",
       "\n",
       "    .dataframe thead th {\n",
       "        text-align: right;\n",
       "    }\n",
       "</style>\n",
       "<table border=\"1\" class=\"dataframe\">\n",
       "  <thead>\n",
       "    <tr style=\"text-align: right;\">\n",
       "      <th></th>\n",
       "      <th>bike_id</th>\n",
       "      <th>duration_sec</th>\n",
       "      <th>end_station_latitude</th>\n",
       "      <th>end_station_longitude</th>\n",
       "      <th>end_time</th>\n",
       "      <th>member_birth_year</th>\n",
       "      <th>member_gender</th>\n",
       "      <th>start_station_id</th>\n",
       "      <th>start_station_latitude</th>\n",
       "      <th>start_station_longitude</th>\n",
       "      <th>start_station_name</th>\n",
       "      <th>start_time</th>\n",
       "      <th>user_type</th>\n",
       "      <th>member_age</th>\n",
       "      <th>duration_min</th>\n",
       "      <th>duration_hours</th>\n",
       "    </tr>\n",
       "  </thead>\n",
       "  <tbody>\n",
       "    <tr>\n",
       "      <th>519697</th>\n",
       "      <td>240</td>\n",
       "      <td>424</td>\n",
       "      <td>37.782411</td>\n",
       "      <td>-122.392706</td>\n",
       "      <td>2017-06-28 09:54:41.187</td>\n",
       "      <td>1985.0</td>\n",
       "      <td>Female</td>\n",
       "      <td>21.0</td>\n",
       "      <td>37.789625</td>\n",
       "      <td>-122.400811</td>\n",
       "      <td>Montgomery St BART Station (Market St at 2nd St)</td>\n",
       "      <td>2017-06-28 09:47:36.347</td>\n",
       "      <td>Subscriber</td>\n",
       "      <td>33</td>\n",
       "      <td>7.066667</td>\n",
       "      <td>0.117778</td>\n",
       "    </tr>\n",
       "    <tr>\n",
       "      <th>519698</th>\n",
       "      <td>669</td>\n",
       "      <td>366</td>\n",
       "      <td>37.774814</td>\n",
       "      <td>-122.418954</td>\n",
       "      <td>2017-06-28 09:53:47.715</td>\n",
       "      <td>1981.0</td>\n",
       "      <td>Male</td>\n",
       "      <td>58.0</td>\n",
       "      <td>37.776619</td>\n",
       "      <td>-122.417385</td>\n",
       "      <td>Market St at 10th St</td>\n",
       "      <td>2017-06-28 09:47:41.664</td>\n",
       "      <td>Subscriber</td>\n",
       "      <td>37</td>\n",
       "      <td>6.100000</td>\n",
       "      <td>0.101667</td>\n",
       "    </tr>\n",
       "    <tr>\n",
       "      <th>519699</th>\n",
       "      <td>117</td>\n",
       "      <td>188</td>\n",
       "      <td>37.782411</td>\n",
       "      <td>-122.392706</td>\n",
       "      <td>2017-06-28 09:52:55.338</td>\n",
       "      <td>1984.0</td>\n",
       "      <td>Male</td>\n",
       "      <td>25.0</td>\n",
       "      <td>37.787522</td>\n",
       "      <td>-122.397405</td>\n",
       "      <td>Howard St at 2nd St</td>\n",
       "      <td>2017-06-28 09:49:46.377</td>\n",
       "      <td>Subscriber</td>\n",
       "      <td>34</td>\n",
       "      <td>3.133333</td>\n",
       "      <td>0.052222</td>\n",
       "    </tr>\n",
       "    <tr>\n",
       "      <th>519692</th>\n",
       "      <td>77</td>\n",
       "      <td>1201</td>\n",
       "      <td>37.798572</td>\n",
       "      <td>-122.400869</td>\n",
       "      <td>2017-06-28 10:11:00.359</td>\n",
       "      <td>1985.0</td>\n",
       "      <td>Male</td>\n",
       "      <td>81.0</td>\n",
       "      <td>37.775880</td>\n",
       "      <td>-122.393170</td>\n",
       "      <td>Berry St at 4th St</td>\n",
       "      <td>2017-06-28 09:50:59.175</td>\n",
       "      <td>Subscriber</td>\n",
       "      <td>33</td>\n",
       "      <td>20.016667</td>\n",
       "      <td>0.333611</td>\n",
       "    </tr>\n",
       "    <tr>\n",
       "      <th>519696</th>\n",
       "      <td>316</td>\n",
       "      <td>431</td>\n",
       "      <td>37.780146</td>\n",
       "      <td>-122.403071</td>\n",
       "      <td>2017-06-28 10:03:51.090</td>\n",
       "      <td>1973.0</td>\n",
       "      <td>Male</td>\n",
       "      <td>66.0</td>\n",
       "      <td>37.778742</td>\n",
       "      <td>-122.392741</td>\n",
       "      <td>3rd St at Townsend St</td>\n",
       "      <td>2017-06-28 09:56:39.631</td>\n",
       "      <td>Subscriber</td>\n",
       "      <td>45</td>\n",
       "      <td>7.183333</td>\n",
       "      <td>0.119722</td>\n",
       "    </tr>\n",
       "  </tbody>\n",
       "</table>\n",
       "</div>"
      ],
      "text/plain": [
       "        bike_id  duration_sec  end_station_latitude  end_station_longitude  \\\n",
       "519697      240           424             37.782411            -122.392706   \n",
       "519698      669           366             37.774814            -122.418954   \n",
       "519699      117           188             37.782411            -122.392706   \n",
       "519692       77          1201             37.798572            -122.400869   \n",
       "519696      316           431             37.780146            -122.403071   \n",
       "\n",
       "                      end_time  member_birth_year member_gender  \\\n",
       "519697 2017-06-28 09:54:41.187             1985.0        Female   \n",
       "519698 2017-06-28 09:53:47.715             1981.0          Male   \n",
       "519699 2017-06-28 09:52:55.338             1984.0          Male   \n",
       "519692 2017-06-28 10:11:00.359             1985.0          Male   \n",
       "519696 2017-06-28 10:03:51.090             1973.0          Male   \n",
       "\n",
       "        start_station_id  start_station_latitude  start_station_longitude  \\\n",
       "519697              21.0               37.789625              -122.400811   \n",
       "519698              58.0               37.776619              -122.417385   \n",
       "519699              25.0               37.787522              -122.397405   \n",
       "519692              81.0               37.775880              -122.393170   \n",
       "519696              66.0               37.778742              -122.392741   \n",
       "\n",
       "                                      start_station_name  \\\n",
       "519697  Montgomery St BART Station (Market St at 2nd St)   \n",
       "519698                              Market St at 10th St   \n",
       "519699                               Howard St at 2nd St   \n",
       "519692                                Berry St at 4th St   \n",
       "519696                             3rd St at Townsend St   \n",
       "\n",
       "                    start_time   user_type  member_age  duration_min  \\\n",
       "519697 2017-06-28 09:47:36.347  Subscriber          33      7.066667   \n",
       "519698 2017-06-28 09:47:41.664  Subscriber          37      6.100000   \n",
       "519699 2017-06-28 09:49:46.377  Subscriber          34      3.133333   \n",
       "519692 2017-06-28 09:50:59.175  Subscriber          33     20.016667   \n",
       "519696 2017-06-28 09:56:39.631  Subscriber          45      7.183333   \n",
       "\n",
       "        duration_hours  \n",
       "519697        0.117778  \n",
       "519698        0.101667  \n",
       "519699        0.052222  \n",
       "519692        0.333611  \n",
       "519696        0.119722  "
      ]
     },
     "execution_count": 24,
     "metadata": {},
     "output_type": "execute_result"
    }
   ],
   "source": [
    "#confirm changes to datatypes\n",
    "df_1.head()"
   ]
  },
  {
   "cell_type": "markdown",
   "metadata": {
    "slideshow": {
     "slide_type": "skip"
    }
   },
   "source": [
    "#### Define\n",
    "Extract months and days of the week from start_time"
   ]
  },
  {
   "cell_type": "markdown",
   "metadata": {
    "slideshow": {
     "slide_type": "skip"
    }
   },
   "source": [
    "#### Code"
   ]
  },
  {
   "cell_type": "code",
   "execution_count": 25,
   "metadata": {
    "slideshow": {
     "slide_type": "skip"
    }
   },
   "outputs": [],
   "source": [
    "# extract start time month name\n",
    "df_1['start_time_month_name']=df_1['start_time'].dt.strftime('%B')"
   ]
  },
  {
   "cell_type": "code",
   "execution_count": 26,
   "metadata": {
    "slideshow": {
     "slide_type": "skip"
    }
   },
   "outputs": [],
   "source": [
    "# extract start time weekdays\n",
    "df_1['start_time_weekday']=df_1['start_time'].dt.strftime('%a')"
   ]
  },
  {
   "cell_type": "code",
   "execution_count": 27,
   "metadata": {
    "slideshow": {
     "slide_type": "skip"
    }
   },
   "outputs": [],
   "source": [
    "#change both to category type\n",
    "df_1.start_time_month_name = df_1.start_time_month_name.astype('category')\n",
    "df_1.start_time_weekday = df_1.start_time_weekday.astype('category')"
   ]
  },
  {
   "cell_type": "markdown",
   "metadata": {
    "slideshow": {
     "slide_type": "skip"
    }
   },
   "source": [
    "#### Test"
   ]
  },
  {
   "cell_type": "code",
   "execution_count": 28,
   "metadata": {
    "slideshow": {
     "slide_type": "skip"
    }
   },
   "outputs": [
    {
     "name": "stdout",
     "output_type": "stream",
     "text": [
      "<class 'pandas.core.frame.DataFrame'>\n",
      "Int64Index: 2054059 entries, 519697 to 2\n",
      "Data columns (total 18 columns):\n",
      "bike_id                    int64\n",
      "duration_sec               int64\n",
      "end_station_latitude       float64\n",
      "end_station_longitude      float64\n",
      "end_time                   datetime64[ns]\n",
      "member_birth_year          float64\n",
      "member_gender              category\n",
      "start_station_id           float64\n",
      "start_station_latitude     float64\n",
      "start_station_longitude    float64\n",
      "start_station_name         object\n",
      "start_time                 datetime64[ns]\n",
      "user_type                  category\n",
      "member_age                 int64\n",
      "duration_min               float64\n",
      "duration_hours             float64\n",
      "start_time_month_name      category\n",
      "start_time_weekday         category\n",
      "dtypes: category(4), datetime64[ns](2), float64(8), int64(3), object(1)\n",
      "memory usage: 242.9+ MB\n"
     ]
    }
   ],
   "source": [
    "df_1.info()"
   ]
  },
  {
   "cell_type": "markdown",
   "metadata": {
    "slideshow": {
     "slide_type": "skip"
    }
   },
   "source": [
    "#### Define\n",
    "\n",
    "Create a column for distance in kilometers, based on the longitude and latitude start and end points."
   ]
  },
  {
   "cell_type": "markdown",
   "metadata": {
    "slideshow": {
     "slide_type": "skip"
    }
   },
   "source": [
    "#### Code"
   ]
  },
  {
   "cell_type": "code",
   "execution_count": 29,
   "metadata": {
    "slideshow": {
     "slide_type": "skip"
    }
   },
   "outputs": [],
   "source": [
    "import math\n",
    "def distance(origin, destination):\n",
    "    lat1, lon1 = origin\n",
    "    lat2, lon2 = destination\n",
    "    radius = 6371 # km\n",
    "    dlat = math.radians(lat2-lat1)\n",
    "    dlon = math.radians(lon2-lon1)\n",
    "    a = math.sin(dlat/2) * math.sin(dlat/2) + math.cos(math.radians(lat1)) \\\n",
    "* math.cos(math.radians(lat2)) * math.sin(dlon/2) * math.sin(dlon/2)\n",
    "    c = 2 * math.atan2(math.sqrt(a), math.sqrt(1-a))\n",
    "    d = radius * c\n",
    "    return d\n",
    "\n"
   ]
  },
  {
   "cell_type": "code",
   "execution_count": 30,
   "metadata": {
    "slideshow": {
     "slide_type": "skip"
    }
   },
   "outputs": [],
   "source": [
    "df_1['distance_km'] = df_1.apply(lambda i: distance([i['start_station_longitude'],i['start_station_latitude']],\n",
    "                            [i['end_station_longitude'],i['end_station_latitude']]), axis=1)"
   ]
  },
  {
   "cell_type": "markdown",
   "metadata": {
    "slideshow": {
     "slide_type": "skip"
    }
   },
   "source": [
    "#### Test"
   ]
  },
  {
   "cell_type": "code",
   "execution_count": 31,
   "metadata": {
    "slideshow": {
     "slide_type": "skip"
    }
   },
   "outputs": [
    {
     "data": {
      "text/html": [
       "<div>\n",
       "<style scoped>\n",
       "    .dataframe tbody tr th:only-of-type {\n",
       "        vertical-align: middle;\n",
       "    }\n",
       "\n",
       "    .dataframe tbody tr th {\n",
       "        vertical-align: top;\n",
       "    }\n",
       "\n",
       "    .dataframe thead th {\n",
       "        text-align: right;\n",
       "    }\n",
       "</style>\n",
       "<table border=\"1\" class=\"dataframe\">\n",
       "  <thead>\n",
       "    <tr style=\"text-align: right;\">\n",
       "      <th></th>\n",
       "      <th>bike_id</th>\n",
       "      <th>duration_sec</th>\n",
       "      <th>end_station_latitude</th>\n",
       "      <th>end_station_longitude</th>\n",
       "      <th>end_time</th>\n",
       "      <th>member_birth_year</th>\n",
       "      <th>member_gender</th>\n",
       "      <th>start_station_id</th>\n",
       "      <th>start_station_latitude</th>\n",
       "      <th>start_station_longitude</th>\n",
       "      <th>start_station_name</th>\n",
       "      <th>start_time</th>\n",
       "      <th>user_type</th>\n",
       "      <th>member_age</th>\n",
       "      <th>duration_min</th>\n",
       "      <th>duration_hours</th>\n",
       "      <th>start_time_month_name</th>\n",
       "      <th>start_time_weekday</th>\n",
       "      <th>distance_km</th>\n",
       "    </tr>\n",
       "  </thead>\n",
       "  <tbody>\n",
       "    <tr>\n",
       "      <th>519697</th>\n",
       "      <td>240</td>\n",
       "      <td>424</td>\n",
       "      <td>37.782411</td>\n",
       "      <td>-122.392706</td>\n",
       "      <td>2017-06-28 09:54:41.187</td>\n",
       "      <td>1985.0</td>\n",
       "      <td>Female</td>\n",
       "      <td>21.0</td>\n",
       "      <td>37.789625</td>\n",
       "      <td>-122.400811</td>\n",
       "      <td>Montgomery St BART Station (Market St at 2nd St)</td>\n",
       "      <td>2017-06-28 09:47:36.347</td>\n",
       "      <td>Subscriber</td>\n",
       "      <td>33</td>\n",
       "      <td>7.066667</td>\n",
       "      <td>0.117778</td>\n",
       "      <td>June</td>\n",
       "      <td>Wed</td>\n",
       "      <td>0.998476</td>\n",
       "    </tr>\n",
       "    <tr>\n",
       "      <th>519698</th>\n",
       "      <td>669</td>\n",
       "      <td>366</td>\n",
       "      <td>37.774814</td>\n",
       "      <td>-122.418954</td>\n",
       "      <td>2017-06-28 09:53:47.715</td>\n",
       "      <td>1981.0</td>\n",
       "      <td>Male</td>\n",
       "      <td>58.0</td>\n",
       "      <td>37.776619</td>\n",
       "      <td>-122.417385</td>\n",
       "      <td>Market St at 10th St</td>\n",
       "      <td>2017-06-28 09:47:41.664</td>\n",
       "      <td>Subscriber</td>\n",
       "      <td>37</td>\n",
       "      <td>6.100000</td>\n",
       "      <td>0.101667</td>\n",
       "      <td>June</td>\n",
       "      <td>Wed</td>\n",
       "      <td>0.204976</td>\n",
       "    </tr>\n",
       "    <tr>\n",
       "      <th>519699</th>\n",
       "      <td>117</td>\n",
       "      <td>188</td>\n",
       "      <td>37.782411</td>\n",
       "      <td>-122.392706</td>\n",
       "      <td>2017-06-28 09:52:55.338</td>\n",
       "      <td>1984.0</td>\n",
       "      <td>Male</td>\n",
       "      <td>25.0</td>\n",
       "      <td>37.787522</td>\n",
       "      <td>-122.397405</td>\n",
       "      <td>Howard St at 2nd St</td>\n",
       "      <td>2017-06-28 09:49:46.377</td>\n",
       "      <td>Subscriber</td>\n",
       "      <td>34</td>\n",
       "      <td>3.133333</td>\n",
       "      <td>0.052222</td>\n",
       "      <td>June</td>\n",
       "      <td>Wed</td>\n",
       "      <td>0.604730</td>\n",
       "    </tr>\n",
       "    <tr>\n",
       "      <th>519692</th>\n",
       "      <td>77</td>\n",
       "      <td>1201</td>\n",
       "      <td>37.798572</td>\n",
       "      <td>-122.400869</td>\n",
       "      <td>2017-06-28 10:11:00.359</td>\n",
       "      <td>1985.0</td>\n",
       "      <td>Male</td>\n",
       "      <td>81.0</td>\n",
       "      <td>37.775880</td>\n",
       "      <td>-122.393170</td>\n",
       "      <td>Berry St at 4th St</td>\n",
       "      <td>2017-06-28 09:50:59.175</td>\n",
       "      <td>Subscriber</td>\n",
       "      <td>33</td>\n",
       "      <td>20.016667</td>\n",
       "      <td>0.333611</td>\n",
       "      <td>June</td>\n",
       "      <td>Wed</td>\n",
       "      <td>1.600173</td>\n",
       "    </tr>\n",
       "    <tr>\n",
       "      <th>519696</th>\n",
       "      <td>316</td>\n",
       "      <td>431</td>\n",
       "      <td>37.780146</td>\n",
       "      <td>-122.403071</td>\n",
       "      <td>2017-06-28 10:03:51.090</td>\n",
       "      <td>1973.0</td>\n",
       "      <td>Male</td>\n",
       "      <td>66.0</td>\n",
       "      <td>37.778742</td>\n",
       "      <td>-122.392741</td>\n",
       "      <td>3rd St at Townsend St</td>\n",
       "      <td>2017-06-28 09:56:39.631</td>\n",
       "      <td>Subscriber</td>\n",
       "      <td>45</td>\n",
       "      <td>7.183333</td>\n",
       "      <td>0.119722</td>\n",
       "      <td>June</td>\n",
       "      <td>Wed</td>\n",
       "      <td>1.151688</td>\n",
       "    </tr>\n",
       "  </tbody>\n",
       "</table>\n",
       "</div>"
      ],
      "text/plain": [
       "        bike_id  duration_sec  end_station_latitude  end_station_longitude  \\\n",
       "519697      240           424             37.782411            -122.392706   \n",
       "519698      669           366             37.774814            -122.418954   \n",
       "519699      117           188             37.782411            -122.392706   \n",
       "519692       77          1201             37.798572            -122.400869   \n",
       "519696      316           431             37.780146            -122.403071   \n",
       "\n",
       "                      end_time  member_birth_year member_gender  \\\n",
       "519697 2017-06-28 09:54:41.187             1985.0        Female   \n",
       "519698 2017-06-28 09:53:47.715             1981.0          Male   \n",
       "519699 2017-06-28 09:52:55.338             1984.0          Male   \n",
       "519692 2017-06-28 10:11:00.359             1985.0          Male   \n",
       "519696 2017-06-28 10:03:51.090             1973.0          Male   \n",
       "\n",
       "        start_station_id  start_station_latitude  start_station_longitude  \\\n",
       "519697              21.0               37.789625              -122.400811   \n",
       "519698              58.0               37.776619              -122.417385   \n",
       "519699              25.0               37.787522              -122.397405   \n",
       "519692              81.0               37.775880              -122.393170   \n",
       "519696              66.0               37.778742              -122.392741   \n",
       "\n",
       "                                      start_station_name  \\\n",
       "519697  Montgomery St BART Station (Market St at 2nd St)   \n",
       "519698                              Market St at 10th St   \n",
       "519699                               Howard St at 2nd St   \n",
       "519692                                Berry St at 4th St   \n",
       "519696                             3rd St at Townsend St   \n",
       "\n",
       "                    start_time   user_type  member_age  duration_min  \\\n",
       "519697 2017-06-28 09:47:36.347  Subscriber          33      7.066667   \n",
       "519698 2017-06-28 09:47:41.664  Subscriber          37      6.100000   \n",
       "519699 2017-06-28 09:49:46.377  Subscriber          34      3.133333   \n",
       "519692 2017-06-28 09:50:59.175  Subscriber          33     20.016667   \n",
       "519696 2017-06-28 09:56:39.631  Subscriber          45      7.183333   \n",
       "\n",
       "        duration_hours start_time_month_name start_time_weekday  distance_km  \n",
       "519697        0.117778                  June                Wed     0.998476  \n",
       "519698        0.101667                  June                Wed     0.204976  \n",
       "519699        0.052222                  June                Wed     0.604730  \n",
       "519692        0.333611                  June                Wed     1.600173  \n",
       "519696        0.119722                  June                Wed     1.151688  "
      ]
     },
     "execution_count": 31,
     "metadata": {},
     "output_type": "execute_result"
    }
   ],
   "source": [
    "df_1.head()"
   ]
  },
  {
   "cell_type": "markdown",
   "metadata": {
    "slideshow": {
     "slide_type": "skip"
    }
   },
   "source": [
    "Resource: https://gist.github.com/rochacbruno/2883505"
   ]
  },
  {
   "cell_type": "markdown",
   "metadata": {
    "slideshow": {
     "slide_type": "skip"
    }
   },
   "source": [
    "#### Define\n",
    "Create a map of starting points to visualize the area where the rides take place."
   ]
  },
  {
   "cell_type": "code",
   "execution_count": 32,
   "metadata": {
    "slideshow": {
     "slide_type": "skip"
    }
   },
   "outputs": [],
   "source": [
    "#street_map = gpd.read_file('data/jw123vr9109.shp')"
   ]
  },
  {
   "cell_type": "code",
   "execution_count": 33,
   "metadata": {
    "slideshow": {
     "slide_type": "skip"
    }
   },
   "outputs": [],
   "source": [
    "#fig,ax = plt.subplots(figsize = (15, 15))\n",
    "#street_map.plot(ax = ax);"
   ]
  },
  {
   "cell_type": "code",
   "execution_count": 34,
   "metadata": {
    "slideshow": {
     "slide_type": "skip"
    }
   },
   "outputs": [],
   "source": [
    "#crs = {'init' : 'epsg:4326'}\n",
    "#df_1.head()"
   ]
  },
  {
   "cell_type": "code",
   "execution_count": 35,
   "metadata": {
    "slideshow": {
     "slide_type": "skip"
    }
   },
   "outputs": [],
   "source": [
    "#geometry = [Point(xy) for xy in zip( df_1[\"start_station_longitude\"], df_1[\"start_station_latitude\"])]\n",
    "#geometry[:4]"
   ]
  },
  {
   "cell_type": "code",
   "execution_count": 36,
   "metadata": {
    "slideshow": {
     "slide_type": "skip"
    }
   },
   "outputs": [],
   "source": [
    "#geo_df = gpd.GeoDataFrame(df_1, crs = crs, geometry = geometry)\n",
    "#geo_df.head()"
   ]
  },
  {
   "cell_type": "code",
   "execution_count": 37,
   "metadata": {
    "slideshow": {
     "slide_type": "skip"
    }
   },
   "outputs": [],
   "source": [
    "#outliers_lat = geo_df[geo_df['start_station_latitude'] > 45]\n",
    "#outliers_long = geo_df[geo_df['start_station_longitude'] > -120]\n",
    "#geo_df = geo_df.drop(outliers_lat.index, axis=0)\n",
    "#geo_df = geo_df.drop(outliers_long.index, axis=0)"
   ]
  },
  {
   "cell_type": "code",
   "execution_count": 38,
   "metadata": {
    "slideshow": {
     "slide_type": "skip"
    }
   },
   "outputs": [],
   "source": [
    "#fig, ax = plt.subplots(figsize = (25, 25))\n",
    "#street_map.plot(ax=ax, alpha = 0.4, color = \"grey\")\n",
    "\n",
    "#geo_df.plot(ax = ax, markersize = 20, color = \"blue\", marker = \"o\")\n",
    "#plt.title(\"Map of Potential Starting Locations for the GoFord Bikeshare in San Francisco\", fontsize=28, y=1.07)\n",
    "#plt.xlabel(\"Longtitude\", fontsize=12)\n",
    "#plt.ylabel(\"Latitude\", fontsize=12);"
   ]
  },
  {
   "cell_type": "markdown",
   "metadata": {
    "slideshow": {
     "slide_type": "skip"
    }
   },
   "source": [
    "Resource: https://towardsdatascience.com/geopandas-101-plot-any-data-with-a-latitude-and-longitude-on-a-map-98e01944b972"
   ]
  },
  {
   "cell_type": "markdown",
   "metadata": {
    "slideshow": {
     "slide_type": "slide"
    }
   },
   "source": [
    "## Univariate Exploration\n",
    "\n",
    "First, I will check the distribution of subscription types, between customers and subscribers.\n",
    "\n",
    "The majority of the users are subscribers, at 89%."
   ]
  },
  {
   "cell_type": "code",
   "execution_count": 39,
   "metadata": {
    "slideshow": {
     "slide_type": "subslide"
    }
   },
   "outputs": [
    {
     "data": {
      "image/png": "[encoded data removed]",
      "text/plain": [
       "<Figure size 432x288 with 1 Axes>"
      ]
     },
     "metadata": {},
     "output_type": "display_data"
    }
   ],
   "source": [
    "sorted_counts = df_1['user_type'].value_counts()\n",
    "plt.pie(sorted_counts, labels = sorted_counts.index, autopct='%1.0f%%', startangle=90, counterclock = False)\n",
    "plt.title(\"The Distribution of Subscription Types in Ford GoBike Users\", fontsize=20, y=1.07)\n",
    "plt.axis('square');"
   ]
  },
  {
   "cell_type": "markdown",
   "metadata": {
    "slideshow": {
     "slide_type": "skip"
    }
   },
   "source": [
    "The majority of the users are subscribers, at 89%."
   ]
  },
  {
   "cell_type": "markdown",
   "metadata": {
    "slideshow": {
     "slide_type": "skip"
    }
   },
   "source": [
    "Next, I will create a boxplot of the ages for riders."
   ]
  },
  {
   "cell_type": "code",
   "execution_count": 40,
   "metadata": {
    "slideshow": {
     "slide_type": "skip"
    }
   },
   "outputs": [
    {
     "data": {
      "image/png": "[encoded data removed]",
      "text/plain": [
       "<Figure size 1008x432 with 1 Axes>"
      ]
     },
     "metadata": {
      "needs_background": "light"
     },
     "output_type": "display_data"
    }
   ],
   "source": [
    "plt.figure(figsize=(14,6))\n",
    "sb.boxplot(x='member_age', data=df_1, palette='Blues')\n",
    "plt.title(\"The Age Distribution of Ford GoBike Users\", fontsize=20, y=1.07)\n",
    "plt.xlabel(\"Age\", fontsize=18, labelpad=10);"
   ]
  },
  {
   "cell_type": "code",
   "execution_count": 41,
   "metadata": {
    "slideshow": {
     "slide_type": "skip"
    }
   },
   "outputs": [
    {
     "data": {
      "text/plain": [
       "35.44409922012951"
      ]
     },
     "execution_count": 41,
     "metadata": {},
     "output_type": "execute_result"
    }
   ],
   "source": [
    "df_1.member_age.mean()"
   ]
  },
  {
   "cell_type": "code",
   "execution_count": 42,
   "metadata": {
    "slideshow": {
     "slide_type": "skip"
    }
   },
   "outputs": [
    {
     "data": {
      "text/plain": [
       "count    2.054059e+06\n",
       "mean     3.544410e+01\n",
       "std      1.021092e+01\n",
       "min      1.800000e+01\n",
       "25%      2.800000e+01\n",
       "50%      3.300000e+01\n",
       "75%      4.100000e+01\n",
       "max      8.000000e+01\n",
       "Name: member_age, dtype: float64"
      ]
     },
     "execution_count": 42,
     "metadata": {},
     "output_type": "execute_result"
    }
   ],
   "source": [
    "df_1.member_age.describe()"
   ]
  },
  {
   "cell_type": "markdown",
   "metadata": {
    "slideshow": {
     "slide_type": "skip"
    }
   },
   "source": [
    "The mean age is 35.4 years old, and after cleaning the data, the oldest age is 80 years old. "
   ]
  },
  {
   "cell_type": "code",
   "execution_count": 43,
   "metadata": {
    "slideshow": {
     "slide_type": "skip"
    }
   },
   "outputs": [
    {
     "data": {
      "image/png": "[encoded data removed]",
      "text/plain": [
       "<Figure size 432x288 with 1 Axes>"
      ]
     },
     "metadata": {
      "needs_background": "light"
     },
     "output_type": "display_data"
    }
   ],
   "source": [
    "sb.countplot(data = df_1, x = 'member_gender')\n",
    "plt.title(\"Gender Count\", fontsize=20, y=1.07)\n",
    "plt.xlabel('Gender')\n",
    "plt.ylabel('Count of Rides');"
   ]
  },
  {
   "cell_type": "markdown",
   "metadata": {
    "slideshow": {
     "slide_type": "skip"
    }
   },
   "source": [
    "Right away, we can see that the majority of users are male. "
   ]
  },
  {
   "cell_type": "code",
   "execution_count": 44,
   "metadata": {
    "slideshow": {
     "slide_type": "skip"
    }
   },
   "outputs": [
    {
     "data": {
      "image/png": "[encoded data removed]",
      "text/plain": [
       "<Figure size 432x288 with 1 Axes>"
      ]
     },
     "metadata": {},
     "output_type": "display_data"
    }
   ],
   "source": [
    "sorted_counts = df_1['member_gender'].value_counts()\n",
    "plt.pie(sorted_counts, labels = sorted_counts.index, autopct='%1.0f%%', startangle=90, counterclock = False)\n",
    "plt.title(\"The Distribution of Gender in Ford GoBike Users\", fontsize=20, y=1.07)\n",
    "plt.axis('square');"
   ]
  },
  {
   "cell_type": "markdown",
   "metadata": {
    "slideshow": {
     "slide_type": "skip"
    }
   },
   "source": [
    "The pie chart shows us that 74% of the users are male, 24% are female, and 1% are other.\n",
    "\n",
    "Now we can see how the time of year influences the number of rides."
   ]
  },
  {
   "cell_type": "markdown",
   "metadata": {
    "slideshow": {
     "slide_type": "slide"
    }
   },
   "source": [
    "The winter months have the fewest rides. The number of rides continues upwards throughout spring and summer, with the most popular being October. Then, the frequency of rides goes back down again.\n"
   ]
  },
  {
   "cell_type": "code",
   "execution_count": 45,
   "metadata": {
    "slideshow": {
     "slide_type": "subslide"
    }
   },
   "outputs": [
    {
     "data": {
      "image/png": "[encoded data removed]",
      "text/plain": [
       "<Figure size 432x288 with 1 Axes>"
      ]
     },
     "metadata": {
      "needs_background": "light"
     },
     "output_type": "display_data"
    }
   ],
   "source": [
    "base_color = sb.color_palette()[0]\n",
    "\n",
    "category_order = ['January', 'February', 'March', 'April', 'May', 'June', 'July', 'August', \n",
    "                 'September', 'October', 'November', 'December']\n",
    "sb.countplot(data = df_1, x = 'start_time_month_name', order = category_order, color = base_color)\n",
    "plt.title('Rides in Each Month', fontsize = 15)\n",
    "plt.xlabel('Month')\n",
    "plt.ylabel('Count of Rides')\n",
    "plt.xticks(rotation = 90);"
   ]
  },
  {
   "cell_type": "markdown",
   "metadata": {
    "slideshow": {
     "slide_type": "slide"
    }
   },
   "source": [
    "\n",
    "The rides are most frequent on Tuesday, Wednesday, and Thursday, followed by Monday and Friday. Saturday and Sunday are the least popular days.\n"
   ]
  },
  {
   "cell_type": "code",
   "execution_count": 46,
   "metadata": {
    "slideshow": {
     "slide_type": "subslide"
    }
   },
   "outputs": [
    {
     "data": {
      "image/png": "[encoded data removed]",
      "text/plain": [
       "<Figure size 432x288 with 1 Axes>"
      ]
     },
     "metadata": {
      "needs_background": "light"
     },
     "output_type": "display_data"
    }
   ],
   "source": [
    "cat_order = ['Mon', 'Tue', 'Wed', 'Thu', 'Fri', 'Sat', 'Sun']\n",
    "sb.countplot(data = df_1, x = 'start_time_weekday', order = cat_order, color = base_color)\n",
    "plt.title('Rides on Each Weekday', fontsize = 15)\n",
    "plt.xlabel('Weekday')\n",
    "plt.ylabel('Count of Rides');"
   ]
  },
  {
   "cell_type": "markdown",
   "metadata": {
    "slideshow": {
     "slide_type": "skip"
    }
   },
   "source": [
    "We will now look at the distance traveled, in a histogram."
   ]
  },
  {
   "cell_type": "code",
   "execution_count": 47,
   "metadata": {
    "slideshow": {
     "slide_type": "skip"
    }
   },
   "outputs": [
    {
     "data": {
      "image/png": "[encoded data removed]",
      "text/plain": [
       "<Figure size 432x288 with 1 Axes>"
      ]
     },
     "metadata": {
      "needs_background": "light"
     },
     "output_type": "display_data"
    }
   ],
   "source": [
    "bin_edges = np.arange(0, 6, 0.3)\n",
    "plt.hist(data = df_1, x = 'distance_km', bins = bin_edges)\n",
    "plt.title(\"Distance Traveled Histogram\", y = 1.06, fontsize = 15)\n",
    "plt.xlabel('Distance in KM')\n",
    "plt.ylabel('Number of Bike Trips');"
   ]
  },
  {
   "cell_type": "markdown",
   "metadata": {
    "slideshow": {
     "slide_type": "skip"
    }
   },
   "source": [
    "The distance traveled histogram shows a right-skew (positive skew) to shorter rides. The mean length of ride is 1.38KM.\n",
    "\n",
    "Next is a histogram for the duration of rides."
   ]
  },
  {
   "cell_type": "code",
   "execution_count": 48,
   "metadata": {
    "slideshow": {
     "slide_type": "skip"
    }
   },
   "outputs": [
    {
     "data": {
      "text/plain": [
       "1.3796241650078478"
      ]
     },
     "execution_count": 48,
     "metadata": {},
     "output_type": "execute_result"
    }
   ],
   "source": [
    "df_1.distance_km.mean()"
   ]
  },
  {
   "cell_type": "code",
   "execution_count": 49,
   "metadata": {
    "slideshow": {
     "slide_type": "skip"
    }
   },
   "outputs": [
    {
     "data": {
      "image/png": "[encoded data removed]",
      "text/plain": [
       "<Figure size 432x288 with 1 Axes>"
      ]
     },
     "metadata": {
      "needs_background": "light"
     },
     "output_type": "display_data"
    }
   ],
   "source": [
    "bin_edges = np.arange(0, 100, 5)\n",
    "\n",
    "plt.hist(data = df_1, x = 'duration_min', bins = bin_edges)\n",
    "\n",
    "plt.title(\"Trip Duration Histogram\", y=1.03, fontsize=14, fontweight='semibold')\n",
    "plt.xlabel('Duration in minutes')\n",
    "plt.ylabel('Number of rides');\n"
   ]
  },
  {
   "cell_type": "markdown",
   "metadata": {
    "slideshow": {
     "slide_type": "skip"
    }
   },
   "source": [
    "The histogram indicates that the majority of rides are less than 20 minutes long. The distribution is skewed to the right (positively skewed). The reason for this would be that single trips are \\$2.00 for trips up to 30 min, otherwise you pay extra \\$3.00 for additional 15 min. Only the monthly pass offers free of charge 45 min rides."
   ]
  },
  {
   "cell_type": "markdown",
   "metadata": {
    "slideshow": {
     "slide_type": "skip"
    }
   },
   "source": [
    "### Discuss the distribution(s) of your variable(s) of interest. Were there any unusual points? Did you need to perform any transformations?\n",
    "\n",
    "This dataset required some cleaning. The cleaning performed earlier included removing some ages that were more than 80 years old (not very likely to be valid), and changing data types such as time and date. I also feature engineered the distance from the starting and ending locations, and also the longtitude and latitude to plot the starting locations on a map of the Bay Area.\n",
    "\n",
    "### Of the features you investigated, were there any unusual distributions? Did you perform any operations on the data to tidy, adjust, or change the form of the data? If so, why did you do this?\n",
    "\n",
    "Some of the birth years were obviously incorrect, as no rider would be 137 years old. I also removed the data for rows that didn't have gender or an age."
   ]
  },
  {
   "cell_type": "markdown",
   "metadata": {
    "slideshow": {
     "slide_type": "slide"
    }
   },
   "source": [
    "## Bivariate Exploration\n",
    "\n",
    "This analysis is quite illuminating as it shows that subscribers predominately use the ride service on Monday through Friday, while customers ride the most on the weekends. This is most likely due to subscribers using the service to commute to work, while customers use the bikes on an occasional basis for something unusual in their schedule."
   ]
  },
  {
   "cell_type": "code",
   "execution_count": 50,
   "metadata": {
    "slideshow": {
     "slide_type": "subslide"
    }
   },
   "outputs": [
    {
     "data": {
      "image/png": "[encoded data removed]",
      "text/plain": [
       "<Figure size 720x360 with 2 Axes>"
      ]
     },
     "metadata": {
      "needs_background": "light"
     },
     "output_type": "display_data"
    }
   ],
   "source": [
    "cat_order = ['Mon', 'Tue', 'Wed', 'Thu', 'Fri', 'Sat', 'Sun']\n",
    "g = sb.catplot(data=df_1, x='start_time_weekday', col=\"user_type\", kind='count', sharey = False, order = cat_order, color = base_color)\n",
    "g.set_axis_labels(\"Weekday\", \"Number of Bike Trips\")\n",
    "g.set_titles(\"{col_name}\")\n",
    "g.fig.suptitle('Weekday Usage of the Bikeshare System per User Type', y=1.03, fontsize=14, fontweight='semibold');\n"
   ]
  },
  {
   "cell_type": "markdown",
   "metadata": {
    "slideshow": {
     "slide_type": "slide"
    }
   },
   "source": [
    "Both customers and subscribers have a similar trend to their monthly usage, where it increases throughout the spring and fall until it drops in November, and for the remainder of the winter. However, the most popular usage month for customers is September, while the most popular month for subscribers is October.\n"
   ]
  },
  {
   "cell_type": "code",
   "execution_count": 51,
   "metadata": {
    "slideshow": {
     "slide_type": "subslide"
    }
   },
   "outputs": [
    {
     "data": {
      "image/png": "[encoded data removed]",
      "text/plain": [
       "<Figure size 720x360 with 2 Axes>"
      ]
     },
     "metadata": {
      "needs_background": "light"
     },
     "output_type": "display_data"
    }
   ],
   "source": [
    "category_order = ['January', 'February', 'March', 'April', 'May', 'June', 'July', 'August', \n",
    "                 'September', 'October', 'November', 'December']\n",
    "g = sb.catplot(data=df_1, x='start_time_month_name', col=\"user_type\", kind='count', order=category_order, sharex = True, sharey = False,\n",
    "            color = base_color)\n",
    "g.set_axis_labels(\"Month\", \"Number of Bike Trips\")\n",
    "g.set_titles(\"{col_name}\")\n",
    "g.fig.suptitle('Monthly usage of the Bikeshare System per User Type', y=1.03, fontsize=14, fontweight='semibold')\n",
    "g.set_xticklabels(rotation=90);"
   ]
  },
  {
   "cell_type": "markdown",
   "metadata": {
    "slideshow": {
     "slide_type": "slide"
    }
   },
   "source": [
    "The bar chart demonstrates that on average, customers take longer rides than subscribers. The mean for customers is 1.513KM, and the mean for subscribers is 1.362KM."
   ]
  },
  {
   "cell_type": "code",
   "execution_count": 52,
   "metadata": {
    "slideshow": {
     "slide_type": "subslide"
    }
   },
   "outputs": [
    {
     "data": {
      "image/png": "[encoded data removed]",
      "text/plain": [
       "<Figure size 936x576 with 1 Axes>"
      ]
     },
     "metadata": {
      "needs_background": "light"
     },
     "output_type": "display_data"
    }
   ],
   "source": [
    "ax = df_1.groupby('user_type')['distance_km'].mean().plot(kind='barh', figsize=(13,8))\n",
    "ax.set_title('Average Trip Distance per User Group', fontsize=22, y=1.015)\n",
    "ax.set_ylabel('User Type', labelpad=8)\n",
    "ax.set_xlabel('Distance in KM', labelpad=10);"
   ]
  },
  {
   "cell_type": "code",
   "execution_count": 53,
   "metadata": {
    "slideshow": {
     "slide_type": "skip"
    }
   },
   "outputs": [
    {
     "data": {
      "text/plain": [
       "user_type\n",
       "Customer      1.51332\n",
       "Subscriber    1.36240\n",
       "Name: distance_km, dtype: float64"
      ]
     },
     "execution_count": 53,
     "metadata": {},
     "output_type": "execute_result"
    }
   ],
   "source": [
    "df_1.groupby('user_type')['distance_km'].mean()"
   ]
  },
  {
   "cell_type": "markdown",
   "metadata": {
    "slideshow": {
     "slide_type": "skip"
    }
   },
   "source": [
    "The bar chart demonstrates that on average, customers take longer rides than subscribers. The mean for customers is 1.513KM, and the mean for subscribers is 1.362KM.\n"
   ]
  },
  {
   "cell_type": "markdown",
   "metadata": {
    "slideshow": {
     "slide_type": "skip"
    }
   },
   "source": [
    "Moving away from customers versus subscribers, the next graph shows the age of a member along with the distance traveled between the start and end locations."
   ]
  },
  {
   "cell_type": "code",
   "execution_count": 54,
   "metadata": {
    "slideshow": {
     "slide_type": "skip"
    }
   },
   "outputs": [
    {
     "name": "stderr",
     "output_type": "stream",
     "text": [
      "/anaconda3/lib/python3.7/site-packages/scipy/stats/stats.py:1713: FutureWarning: Using a non-tuple sequence for multidimensional indexing is deprecated; use `arr[tuple(seq)]` instead of `arr[seq]`. In the future this will be interpreted as an array index, `arr[np.array(seq)]`, which will result either in an error or a different result.\n",
      "  return np.add.reduce(sorted[indexer] * weights, axis=axis) / sumval\n"
     ]
    },
    {
     "data": {
      "image/png": "[encoded data removed]",
      "text/plain": [
       "<Figure size 1080x648 with 1 Axes>"
      ]
     },
     "metadata": {
      "needs_background": "light"
     },
     "output_type": "display_data"
    }
   ],
   "source": [
    "plt.figure(figsize=(15,9))\n",
    "sb.pointplot(data = df_1, x='member_age', y='distance_km', scale=.7, color='green')\n",
    "plt.title('Member Age vs Distance Traveled', fontsize=22, y=1.015)\n",
    "plt.xlabel('Age in Years', labelpad=16)\n",
    "plt.ylabel('Distance in KM', labelpad=16)\n",
    "plt.xticks(rotation = 90);"
   ]
  },
  {
   "cell_type": "markdown",
   "metadata": {
    "slideshow": {
     "slide_type": "skip"
    }
   },
   "source": [
    "This line graph shows that the oldest riders had the greatest fluctuation between the shorest and longest rides.\n",
    "Of course, it is possible for the rider to not take a direct trip from the starting to ending locations, and to deviate from a straight course. However, it is worthwhile to understand how far away the starting and ending locations are from each other."
   ]
  },
  {
   "cell_type": "markdown",
   "metadata": {
    "slideshow": {
     "slide_type": "slide"
    }
   },
   "source": [
    "\n",
    "\n",
    "It was interesting to observe the different usage behaviors between subscribers and customers. Customers show trends towards being more casual in their usage, as they ride more on the weekends, and subscribers appear to use the service on a Monday-Friday basis. It seems likely that subscribers are using the service to commute to work. However, it was surprising to see that customers, on average, take longer rides than subscribers.\n",
    "\n"
   ]
  },
  {
   "cell_type": "markdown",
   "metadata": {
    "slideshow": {
     "slide_type": "skip"
    }
   },
   "source": [
    "### Did you observe any interesting relationships between the other features (not the main feature(s) of interest)?\n",
    "\n",
    "The relationship between the member's age and length of ride is investigated with a line graph. The greatest fluctuation between the shorest and longest rides is with the older riders."
   ]
  },
  {
   "cell_type": "markdown",
   "metadata": {
    "slideshow": {
     "slide_type": "slide"
    }
   },
   "source": [
    "## Multivariate Exploration\n",
    "\n",
    "While there is less female and other gender usage than male, the trend between customers and subscribers of each gender is similar. Customers of all genders use the service more often on the weekends, while subscribers use the system during the week, predominately."
   ]
  },
  {
   "cell_type": "code",
   "execution_count": 55,
   "metadata": {
    "slideshow": {
     "slide_type": "subslide"
    }
   },
   "outputs": [
    {
     "data": {
      "image/png": "[encoded data removed]",
      "text/plain": [
       "<Figure size 810.375x360 with 2 Axes>"
      ]
     },
     "metadata": {
      "needs_background": "light"
     },
     "output_type": "display_data"
    }
   ],
   "source": [
    "weekday = ['Mon', 'Tue', 'Wed', 'Thu', 'Fri', 'Sat', 'Sun']\n",
    "g = sb.catplot(data=df_1, x='start_time_weekday', col=\"user_type\", hue='member_gender', kind='count', sharey = False,\n",
    "                order = weekday)\n",
    "g.set_axis_labels(\"Weekday\", \"Number of Bike Trips\")\n",
    "g._legend.set_title('Gender')\n",
    "g.set_titles(\"{col_name}\")\n",
    "g.fig.suptitle('Usage of the Bikeshare System per User Type and Gender, based on Weekday', y=1.03, fontsize=14, fontweight='semibold');\n"
   ]
  },
  {
   "cell_type": "markdown",
   "metadata": {
    "slideshow": {
     "slide_type": "slide"
    }
   },
   "source": [
    "Again, we find that each gender follows a similar pattern to the other genders. The winter months are not as popular for customers or subscribers, and usage increases as the summer and fall occur."
   ]
  },
  {
   "cell_type": "code",
   "execution_count": 56,
   "metadata": {
    "slideshow": {
     "slide_type": "subslide"
    }
   },
   "outputs": [
    {
     "data": {
      "image/png": "[encoded data removed]",
      "text/plain": [
       "<Figure size 810.375x360 with 2 Axes>"
      ]
     },
     "metadata": {
      "needs_background": "light"
     },
     "output_type": "display_data"
    }
   ],
   "source": [
    "category_order = ['January', 'February', 'March', 'April', 'May', 'June', 'July', 'August', \n",
    "                 'September', 'October', 'November', 'December']\n",
    "g = sb.catplot(data=df_1, x='start_time_month_name', col=\"user_type\", hue=\"member_gender\", kind='count', sharey = False, order = category_order)\n",
    "g.set_axis_labels(\"Month\", \"Number of Bike Trips\")\n",
    "g._legend.set_title('Gender')\n",
    "g.set_titles(\"{col_name}\")\n",
    "g.fig.suptitle('Monthly Usage of the Bikeshare System per User Type and Gender', y=1.08, fontsize=14)\n",
    "g.set_xticklabels(rotation=90);"
   ]
  },
  {
   "cell_type": "markdown",
   "metadata": {
    "slideshow": {
     "slide_type": "slide"
    }
   },
   "source": [
    "\n",
    "Monthly usage during the weekday for customers and subscribers would look interesting as a heatmap. It is easy to visualize the usage in this heatmap, as the darker colors indicate the most rides occuring. The summer and fall are the most popular for both users, and customers prefer the weekend, compared to subcribers.\n",
    "\n"
   ]
  },
  {
   "cell_type": "code",
   "execution_count": 57,
   "metadata": {
    "slideshow": {
     "slide_type": "subslide"
    }
   },
   "outputs": [
    {
     "data": {
      "image/png": "[encoded data removed]",
      "text/plain": [
       "<Figure size 1080x1080 with 4 Axes>"
      ]
     },
     "metadata": {
      "needs_background": "light"
     },
     "output_type": "display_data"
    }
   ],
   "source": [
    "# Setting the weekday order\n",
    "df_1['start_time_weekday'] = pd.Categorical(df_1['start_time_weekday'], \n",
    "                                                categories=['Mon','Tue','Wed','Thu','Fri','Sat', 'Sun'], \n",
    "                                                ordered=True)\n",
    "df_1['start_time_month_name'] = pd.Categorical(df_1['start_time_month_name'], \n",
    "                                                categories=['January','February','March', 'April', 'May', 'June', 'July', 'August', \n",
    "                 'September', 'October', 'November', 'December'], \n",
    "                                                ordered=True)\n",
    "plt.figure(figsize=(12,12))\n",
    "plt.suptitle('Monthly Usage during the Weekday for Customers and Subscribers', fontsize=14, fontweight='semibold')\n",
    "\n",
    "# heatmap for subscribers\n",
    "plt.subplot(1, 2, 1)\n",
    "df_subscriber = df_1.query('user_type == \"Subscriber\"').groupby([\"start_time_month_name\", \"start_time_weekday\"])[\"bike_id\"].size().reset_index()\n",
    "df_subscriber = df_subscriber.pivot(\"start_time_month_name\", \"start_time_weekday\", \"bike_id\")\n",
    "sb.heatmap(df_subscriber, cmap=\"YlGnBu\")\n",
    "\n",
    "plt.title(\"Subscriber\", y=1.015)\n",
    "plt.xlabel('Weekday')\n",
    "plt.ylabel('Month');\n",
    "# heatmap for customers\n",
    "plt.subplot(1, 2, 2)\n",
    "df_customer = df_1.query('user_type == \"Customer\"').groupby([\"start_time_month_name\", \"start_time_weekday\"])[\"bike_id\"].size().reset_index()\n",
    "df_customer = df_customer.pivot(\"start_time_month_name\", \"start_time_weekday\", \"bike_id\")\n",
    "sb.heatmap(df_customer, cmap=\"YlGnBu\")\n",
    "\n",
    "\n",
    "plt.title(\"Customer\", y=1.015)\n",
    "plt.xlabel('Weekday')\n",
    "plt.ylabel('');\n",
    "\n"
   ]
  },
  {
   "cell_type": "markdown",
   "metadata": {
    "slideshow": {
     "slide_type": "skip"
    }
   },
   "source": [
    "It is easy to visualize the usage in this heatmap, as the darker colors indicate the most rides occuring. The summer and fall are the most popular for both users, and customers prefer the weekend, compared to subcribers.\n"
   ]
  },
  {
   "cell_type": "markdown",
   "metadata": {
    "slideshow": {
     "slide_type": "skip"
    }
   },
   "source": [
    "The following graph is a line graph of the distances traveled by each age, separated by gender."
   ]
  },
  {
   "cell_type": "code",
   "execution_count": 58,
   "metadata": {
    "slideshow": {
     "slide_type": "skip"
    }
   },
   "outputs": [
    {
     "data": {
      "image/png": "[encoded data removed]",
      "text/plain": [
       "<Figure size 1080x576 with 1 Axes>"
      ]
     },
     "metadata": {
      "needs_background": "light"
     },
     "output_type": "display_data"
    }
   ],
   "source": [
    "plt.figure(figsize=(15,8))\n",
    "ax = sb.pointplot(x='member_age', y='distance_km', hue='member_gender', scale=.6, data=df_1)\n",
    "plt.title('Distances Traveled by Gender And Age', fontsize=22, y=1.015)\n",
    "plt.xlabel('Age', labelpad=16)\n",
    "plt.ylabel('Distance in KM', labelpad=16)\n",
    "leg = ax.legend()\n",
    "leg.set_title('Gender',prop={'size':16})\n",
    "ax = plt.gca();\n"
   ]
  },
  {
   "cell_type": "markdown",
   "metadata": {
    "slideshow": {
     "slide_type": "skip"
    }
   },
   "source": [
    "Interestingly, the other gender has the greatest fluctuation, especially in the 50 years and older demographic.\n"
   ]
  },
  {
   "cell_type": "markdown",
   "metadata": {
    "slideshow": {
     "slide_type": "skip"
    }
   },
   "source": [
    "Resource: https://matplotlib.org/3.1.0/gallery/"
   ]
  },
  {
   "cell_type": "markdown",
   "metadata": {
    "slideshow": {
     "slide_type": "slide"
    }
   },
   "source": [
    "\n",
    "The multivariate charts reinforced the earlier relationships that were observed. The customers prefer to use the Bikeshare on weekends, and the subscribers use the service on Monday-Friday, the most. This was not influenced by gender. The same can be said about usage over the months, as the summer and fall are the most popular usage times, regardless of any other factors.\n",
    "\n"
   ]
  },
  {
   "cell_type": "markdown",
   "metadata": {
    "slideshow": {
     "slide_type": "skip"
    }
   },
   "source": [
    "### Were there any interesting or surprising interactions between features?\n",
    "\n",
    "It was surprising to note that the \"other gender\" category had the most outliers in the data, as well as ages over 50 years. "
   ]
  },
  {
   "cell_type": "code",
   "execution_count": 61,
   "metadata": {
    "slideshow": {
     "slide_type": "skip"
    }
   },
   "outputs": [
    {
     "name": "stdout",
     "output_type": "stream",
     "text": [
      "[NbConvertApp] Converting notebook presentation.ipynb to slides\n",
      "[NbConvertApp] Writing 538352 bytes to presentation.slides.html\n",
      "[NbConvertApp] Serving local reveal.js\n",
      "Serving your slides at http://127.0.0.1:8000/presentation.slides.html\n",
      "Use Control-C to stop this server\n",
      "WARNING:tornado.access:404 GET /custom.css (127.0.0.1) 1.18ms\n",
      "WARNING:tornado.access:404 GET /custom.css (127.0.0.1) 2.02ms\n",
      "WARNING:tornado.access:404 GET /custom.css (127.0.0.1) 0.53ms\n",
      "^C\n",
      "\n",
      "Interrupted\n"
     ]
    }
   ],
   "source": [
    "!jupyter nbconvert presentation.ipynb --to slides --post serve --template output_toggle"
   ]
  },
  {
   "cell_type": "code",
   "execution_count": null,
   "metadata": {},
   "outputs": [],
   "source": []
  }
 ],
 "metadata": {
  "celltoolbar": "Slideshow",
  "kernelspec": {
   "display_name": "Python 3",
   "language": "python",
   "name": "python3"
  },
  "language_info": {
   "codemirror_mode": {
    "name": "ipython",
    "version": 3
   },
   "file_extension": ".py",
   "mimetype": "text/x-python",
   "name": "python",
   "nbconvert_exporter": "python",
   "pygments_lexer": "ipython3",
   "version": "3.7.1"
  }
 },
 "nbformat": 4,
 "nbformat_minor": 2
}
